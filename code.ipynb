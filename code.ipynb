{
 "cells": [
  {
   "metadata": {},
   "cell_type": "markdown",
   "source": "# Sentiment Analysis on Chat Data from telegram group chats",
   "id": "e1f0f3245d6f0392"
  },
  {
   "metadata": {},
   "cell_type": "markdown",
   "source": [
    "# Introduction\n",
    "Telegram hosts a very large number of group chats where users can interact with each other. These group chats can be used for various purposes, such as discussing common interests, sharing information, or organizing events. In this project, I will perform sentiment analysis on chat data from a Telegram group chat. The chat data contains messages from multiple users, and we will analyze the sentiment of these messages to understand the overall sentiment of the group chat.\n",
    "\n",
    "The goal of this project is to build a sentiment analysis model that can classify the sentiment of chat messages as positive, negative, or neutral. We will use a dataset of chat messages from a Telegram group chat and preprocess the data to prepare it for sentiment analysis. We will then train a sentiment analysis model using a machine learning algorithm and evaluate its performance. Finally, we will use the trained model to predict the sentiment of new chat messages.  This models will help telegram group chat admins to monitor the chat and know the sentiment of the chat and take necessary actions. telegram bots can also be used to monitor the chat and give feedback to the admins."
   ],
   "id": "1e0870fc6a2973a9"
  },
  {
   "cell_type": "code",
   "id": "d26af1bd6232ba8f",
   "metadata": {
    "ExecuteTime": {
     "end_time": "2024-12-02T12:56:44.820432Z",
     "start_time": "2024-12-02T12:56:43.743401Z"
    }
   },
   "source": [
    "# This block of code imports the necessary libraries for the project all the necessary libraries are imported here and no need to import them again in the code \n",
    "\n",
    "\n",
    "import os\n",
    "import json\n",
    "import pandas as pd\n",
    "import warnings\n",
    "warnings.filterwarnings('ignore', category=UserWarning, module='seaborn')\n",
    "warnings.filterwarnings('ignore', category=FutureWarning, module='seaborn')\n",
    "import warnings\n",
    "warnings.filterwarnings('ignore', category=UserWarning, module='matplotlib')\n",
    "warnings.filterwarnings('ignore', category=FutureWarning, module='matplotlib')\n",
    "import seaborn as sns\n",
    "import matplotlib.pyplot as plt\n",
    "import joblib\n",
    "from nltk.tokenize import sent_tokenize\n",
    "from sklearn.feature_extraction.text import TfidfVectorizer\n",
    "from vaderSentiment.vaderSentiment import SentimentIntensityAnalyzer\n",
    "from sklearn.preprocessing import LabelEncoder\n",
    "from sklearn.model_selection import train_test_split\n",
    "from sklearn.linear_model import LogisticRegression\n",
    "from sklearn.metrics import classification_report\n",
    "from sklearn.model_selection import GridSearchCV"
   ],
   "outputs": [],
   "execution_count": 1
  },
  {
   "metadata": {},
   "cell_type": "markdown",
   "source": [
    "# Telegram Chat Data\n",
    "The chat data is stored in a JSON file and contains information about the messages sent in the group chat. This data includes the text of the messages, the sender of the messages, the date and time the messages were sent, and other relevant information. We will load this data into a DataFrame and preprocess it to prepare it for sentiment analysis.\n"
   ],
   "id": "ebfd7458b3201a80"
  },
  {
   "metadata": {
    "collapsed": true,
    "ExecuteTime": {
     "end_time": "2024-12-02T12:56:53.398404Z",
     "start_time": "2024-12-02T12:56:44.887920Z"
    }
   },
   "cell_type": "code",
   "source": [
    "# Load JSON file\n",
    "\n",
    "data_path = os.path.join(\"data\", \"bot.json\") \n",
    "with open(data_path, \"r\", encoding=\"utf-8\") as file:\n",
    "    chat_data = json.load(file)\n"
   ],
   "id": "initial_id",
   "outputs": [],
   "execution_count": 2
  },
  {
   "metadata": {},
   "cell_type": "markdown",
   "source": [
    "# Data Preprocessing\n",
    "We need to set messages to the data frame because we are interested in the messages sent in the chat data.\n"
   ],
   "id": "4cb446644be7cbbc"
  },
  {
   "metadata": {
    "ExecuteTime": {
     "end_time": "2024-12-02T12:58:26.536615Z",
     "start_time": "2024-12-02T12:58:21.347055Z"
    }
   },
   "cell_type": "code",
   "source": [
    "# Convert JSON to DataFrame\n",
    "df = pd.DataFrame(chat_data['messages'])\n",
    "df.tail()"
   ],
   "id": "720d4eb80ae6c188",
   "outputs": [
    {
     "data": {
      "text/plain": [
       "            id     type                 date date_unixtime actor actor_id  \\\n",
       "474259  945379  message  2024-12-01T17:03:44    1733061824   NaN      NaN   \n",
       "474260  945381  message  2024-12-01T17:07:05    1733062025   NaN      NaN   \n",
       "474261  945382  message  2024-12-01T17:10:09    1733062209   NaN      NaN   \n",
       "474262  945385  message  2024-12-01T17:42:28    1733064148   NaN      NaN   \n",
       "474263  945386  message  2024-12-01T17:43:00    1733064180   NaN      NaN   \n",
       "\n",
       "       action title                                               text  \\\n",
       "474259    NaN   NaN  [{'type': 'mention', 'text': '@BotFather'},  >...   \n",
       "474260    NaN   NaN                              Thanks for your help)   \n",
       "474261    NaN   NaN  Can i edit message with media, and delete medi...   \n",
       "474262    NaN   NaN                                 Why you ignore me?   \n",
       "474263    NaN   NaN  Because your message doesn't make sense. What ...   \n",
       "\n",
       "                                            text_entities  ...  \\\n",
       "474259  [{'type': 'mention', 'text': '@BotFather'}, {'...  ...   \n",
       "474260  [{'type': 'plain', 'text': 'Thanks for your he...  ...   \n",
       "474261  [{'type': 'plain', 'text': 'Can i edit message...  ...   \n",
       "474262  [{'type': 'plain', 'text': 'Why you ignore me?'}]  ...   \n",
       "474263  [{'type': 'plain', 'text': 'Because your messa...  ...   \n",
       "\n",
       "       game_message_id score saved_from location_information  \\\n",
       "474259             NaN   NaN        NaN                  NaN   \n",
       "474260             NaN   NaN        NaN                  NaN   \n",
       "474261             NaN   NaN        NaN                  NaN   \n",
       "474262             NaN   NaN        NaN                  NaN   \n",
       "474263             NaN   NaN        NaN                  NaN   \n",
       "\n",
       "       invoice_information place_name  address  reply_to_peer_id  \\\n",
       "474259                 NaN        NaN      NaN               NaN   \n",
       "474260                 NaN        NaN      NaN               NaN   \n",
       "474261                 NaN        NaN      NaN               NaN   \n",
       "474262                 NaN        NaN      NaN               NaN   \n",
       "474263                 NaN        NaN      NaN               NaN   \n",
       "\n",
       "       giveaway_information  boosts  \n",
       "474259                  NaN     NaN  \n",
       "474260                  NaN     NaN  \n",
       "474261                  NaN     NaN  \n",
       "474262                  NaN     NaN  \n",
       "474263                  NaN     NaN  \n",
       "\n",
       "[5 rows x 46 columns]"
      ],
      "text/html": [
       "<div>\n",
       "<style scoped>\n",
       "    .dataframe tbody tr th:only-of-type {\n",
       "        vertical-align: middle;\n",
       "    }\n",
       "\n",
       "    .dataframe tbody tr th {\n",
       "        vertical-align: top;\n",
       "    }\n",
       "\n",
       "    .dataframe thead th {\n",
       "        text-align: right;\n",
       "    }\n",
       "</style>\n",
       "<table border=\"1\" class=\"dataframe\">\n",
       "  <thead>\n",
       "    <tr style=\"text-align: right;\">\n",
       "      <th></th>\n",
       "      <th>id</th>\n",
       "      <th>type</th>\n",
       "      <th>date</th>\n",
       "      <th>date_unixtime</th>\n",
       "      <th>actor</th>\n",
       "      <th>actor_id</th>\n",
       "      <th>action</th>\n",
       "      <th>title</th>\n",
       "      <th>text</th>\n",
       "      <th>text_entities</th>\n",
       "      <th>...</th>\n",
       "      <th>game_message_id</th>\n",
       "      <th>score</th>\n",
       "      <th>saved_from</th>\n",
       "      <th>location_information</th>\n",
       "      <th>invoice_information</th>\n",
       "      <th>place_name</th>\n",
       "      <th>address</th>\n",
       "      <th>reply_to_peer_id</th>\n",
       "      <th>giveaway_information</th>\n",
       "      <th>boosts</th>\n",
       "    </tr>\n",
       "  </thead>\n",
       "  <tbody>\n",
       "    <tr>\n",
       "      <th>474259</th>\n",
       "      <td>945379</td>\n",
       "      <td>message</td>\n",
       "      <td>2024-12-01T17:03:44</td>\n",
       "      <td>1733061824</td>\n",
       "      <td>NaN</td>\n",
       "      <td>NaN</td>\n",
       "      <td>NaN</td>\n",
       "      <td>NaN</td>\n",
       "      <td>[{'type': 'mention', 'text': '@BotFather'},  &gt;...</td>\n",
       "      <td>[{'type': 'mention', 'text': '@BotFather'}, {'...</td>\n",
       "      <td>...</td>\n",
       "      <td>NaN</td>\n",
       "      <td>NaN</td>\n",
       "      <td>NaN</td>\n",
       "      <td>NaN</td>\n",
       "      <td>NaN</td>\n",
       "      <td>NaN</td>\n",
       "      <td>NaN</td>\n",
       "      <td>NaN</td>\n",
       "      <td>NaN</td>\n",
       "      <td>NaN</td>\n",
       "    </tr>\n",
       "    <tr>\n",
       "      <th>474260</th>\n",
       "      <td>945381</td>\n",
       "      <td>message</td>\n",
       "      <td>2024-12-01T17:07:05</td>\n",
       "      <td>1733062025</td>\n",
       "      <td>NaN</td>\n",
       "      <td>NaN</td>\n",
       "      <td>NaN</td>\n",
       "      <td>NaN</td>\n",
       "      <td>Thanks for your help)</td>\n",
       "      <td>[{'type': 'plain', 'text': 'Thanks for your he...</td>\n",
       "      <td>...</td>\n",
       "      <td>NaN</td>\n",
       "      <td>NaN</td>\n",
       "      <td>NaN</td>\n",
       "      <td>NaN</td>\n",
       "      <td>NaN</td>\n",
       "      <td>NaN</td>\n",
       "      <td>NaN</td>\n",
       "      <td>NaN</td>\n",
       "      <td>NaN</td>\n",
       "      <td>NaN</td>\n",
       "    </tr>\n",
       "    <tr>\n",
       "      <th>474261</th>\n",
       "      <td>945382</td>\n",
       "      <td>message</td>\n",
       "      <td>2024-12-01T17:10:09</td>\n",
       "      <td>1733062209</td>\n",
       "      <td>NaN</td>\n",
       "      <td>NaN</td>\n",
       "      <td>NaN</td>\n",
       "      <td>NaN</td>\n",
       "      <td>Can i edit message with media, and delete medi...</td>\n",
       "      <td>[{'type': 'plain', 'text': 'Can i edit message...</td>\n",
       "      <td>...</td>\n",
       "      <td>NaN</td>\n",
       "      <td>NaN</td>\n",
       "      <td>NaN</td>\n",
       "      <td>NaN</td>\n",
       "      <td>NaN</td>\n",
       "      <td>NaN</td>\n",
       "      <td>NaN</td>\n",
       "      <td>NaN</td>\n",
       "      <td>NaN</td>\n",
       "      <td>NaN</td>\n",
       "    </tr>\n",
       "    <tr>\n",
       "      <th>474262</th>\n",
       "      <td>945385</td>\n",
       "      <td>message</td>\n",
       "      <td>2024-12-01T17:42:28</td>\n",
       "      <td>1733064148</td>\n",
       "      <td>NaN</td>\n",
       "      <td>NaN</td>\n",
       "      <td>NaN</td>\n",
       "      <td>NaN</td>\n",
       "      <td>Why you ignore me?</td>\n",
       "      <td>[{'type': 'plain', 'text': 'Why you ignore me?'}]</td>\n",
       "      <td>...</td>\n",
       "      <td>NaN</td>\n",
       "      <td>NaN</td>\n",
       "      <td>NaN</td>\n",
       "      <td>NaN</td>\n",
       "      <td>NaN</td>\n",
       "      <td>NaN</td>\n",
       "      <td>NaN</td>\n",
       "      <td>NaN</td>\n",
       "      <td>NaN</td>\n",
       "      <td>NaN</td>\n",
       "    </tr>\n",
       "    <tr>\n",
       "      <th>474263</th>\n",
       "      <td>945386</td>\n",
       "      <td>message</td>\n",
       "      <td>2024-12-01T17:43:00</td>\n",
       "      <td>1733064180</td>\n",
       "      <td>NaN</td>\n",
       "      <td>NaN</td>\n",
       "      <td>NaN</td>\n",
       "      <td>NaN</td>\n",
       "      <td>Because your message doesn't make sense. What ...</td>\n",
       "      <td>[{'type': 'plain', 'text': 'Because your messa...</td>\n",
       "      <td>...</td>\n",
       "      <td>NaN</td>\n",
       "      <td>NaN</td>\n",
       "      <td>NaN</td>\n",
       "      <td>NaN</td>\n",
       "      <td>NaN</td>\n",
       "      <td>NaN</td>\n",
       "      <td>NaN</td>\n",
       "      <td>NaN</td>\n",
       "      <td>NaN</td>\n",
       "      <td>NaN</td>\n",
       "    </tr>\n",
       "  </tbody>\n",
       "</table>\n",
       "<p>5 rows × 46 columns</p>\n",
       "</div>"
      ]
     },
     "execution_count": 3,
     "metadata": {},
     "output_type": "execute_result"
    }
   ],
   "execution_count": 3
  },
  {
   "metadata": {},
   "cell_type": "markdown",
   "source": [
    "# Data Exploration and Visualization\n",
    "We will explore the chat data to understand its structure and contents. We will visualize the data to gain insights into the number of messages, the distribution of messages per user, the text length distribution, and the message frequency over time. This help us to have a clear understanding of the data before we start the cleaning process."
   ],
   "id": "4741ea39afb9b172"
  },
  {
   "metadata": {
    "ExecuteTime": {
     "end_time": "2024-12-02T12:59:38.802970Z",
     "start_time": "2024-12-02T12:59:38.560376Z"
    }
   },
   "cell_type": "code",
   "source": [
    "#  Number of Messages Before Processing\n",
    "\n",
    "num_messages_before = df.shape[0]\n",
    "\n",
    "plt.figure(figsize=(8, 6))\n",
    "plt.bar(['Before Processing'], [num_messages_before], color='blue')\n",
    "plt.title('Number of Messages Before Processing')\n",
    "plt.ylabel('Number of Messages')\n",
    "plt.show()\n"
   ],
   "id": "aec7af8aac976215",
   "outputs": [
    {
     "data": {
      "text/plain": [
       "<Figure size 800x600 with 1 Axes>"
      ],
      "image/png": "[encoded data removed]"
     },
     "metadata": {},
     "output_type": "display_data"
    }
   ],
   "execution_count": 4
  },
  {
   "metadata": {
    "ExecuteTime": {
     "end_time": "2024-12-02T13:00:35.675460Z",
     "start_time": "2024-12-02T13:00:35.531863Z"
    }
   },
   "cell_type": "code",
   "source": [
    "#  Number of Messages Before Processing  and the top 10 users by message count\n",
    "\n",
    "user_counts = df['from'].value_counts()\n",
    "top_users = user_counts[:10]  # Top 10 users\n",
    "message_ranges = user_counts.value_counts(bins=10).sort_index()  # Group users into ranges\n",
    "user_counts = user_counts.apply(lambda x: ''.join(char for char in str(x) if char.isalnum()))\n",
    "# Display summaries\n",
    "print(\"Top 10 Users by Message Count:\")\n",
    "print(top_users)\n",
    "print(\"\\nUser Message Ranges:\")\n",
    "print(message_ranges)"
   ],
   "id": "6a813878d56058d",
   "outputs": [
    {
     "name": "stdout",
     "output_type": "stream",
     "text": [
      "Top 10 Users by Message Count:\n",
      "from\n",
      "dot                      30299\n",
      "Яico X                   16857\n",
      "Thorbijoern ᚛ᚃᚒᚉ ᚅᚎᚄ᚜    13046\n",
      "Para                      8719\n",
      "s0m31                     7988\n",
      "Watzon 🍉🇵🇸                7163\n",
      "Poolitzer X               6552\n",
      "Lord unreal4u 𝕏 (NL)      3813\n",
      "puppy0cam                 3242\n",
      "Sköll                     3032\n",
      "Name: count, dtype: int64\n",
      "\n",
      "User Message Ranges:\n",
      "(-29.299, 3030.8]     22152\n",
      "(3030.8, 6060.6]          3\n",
      "(6060.6, 9090.4]          4\n",
      "(9090.4, 12120.2]         0\n",
      "(12120.2, 15150.0]        1\n",
      "(15150.0, 18179.8]        1\n",
      "(18179.8, 21209.6]        0\n",
      "(21209.6, 24239.4]        0\n",
      "(24239.4, 27269.2]        0\n",
      "(27269.2, 30299.0]        1\n",
      "Name: count, dtype: int64\n"
     ]
    }
   ],
   "execution_count": 6
  },
  {
   "metadata": {
    "ExecuteTime": {
     "end_time": "2024-12-02T13:02:26.130204Z",
     "start_time": "2024-12-02T13:02:25.703016Z"
    }
   },
   "cell_type": "code",
   "source": [
    "# Bar Chart for Top Users\n",
    "\n",
    "plt.figure(figsize=(10, 6))\n",
    "top_users.plot(kind='bar', color='teal')\n",
    "plt.title(\"Top 10 Users by Number of Messages\")\n",
    "plt.xlabel(\"Users\")\n",
    "plt.ylabel(\"Number of Messages\")\n",
    "plt.xticks(rotation=45, fontsize=8)\n",
    "plt.grid(axis='y', linestyle='--', alpha=0.7)\n",
    "plt.tight_layout()\n",
    "plt.show()"
   ],
   "id": "942513d186692dbe",
   "outputs": [
    {
     "name": "stderr",
     "output_type": "stream",
     "text": [
      "/tmp/ipykernel_20461/3502102848.py:10: UserWarning: Glyph 5787 (\\N{OGHAM FEATHER MARK}) missing from font(s) Arial.\n",
      "  plt.tight_layout()\n",
      "/tmp/ipykernel_20461/3502102848.py:10: UserWarning: Glyph 5763 (\\N{OGHAM LETTER FEARN}) missing from font(s) Arial.\n",
      "  plt.tight_layout()\n",
      "/tmp/ipykernel_20461/3502102848.py:10: UserWarning: Glyph 5778 (\\N{OGHAM LETTER UR}) missing from font(s) Arial.\n",
      "  plt.tight_layout()\n",
      "/tmp/ipykernel_20461/3502102848.py:10: UserWarning: Glyph 5769 (\\N{OGHAM LETTER COLL}) missing from font(s) Arial.\n",
      "  plt.tight_layout()\n",
      "/tmp/ipykernel_20461/3502102848.py:10: UserWarning: Glyph 5765 (\\N{OGHAM LETTER NION}) missing from font(s) Arial.\n",
      "  plt.tight_layout()\n",
      "/tmp/ipykernel_20461/3502102848.py:10: UserWarning: Glyph 5774 (\\N{OGHAM LETTER STRAIF}) missing from font(s) Arial.\n",
      "  plt.tight_layout()\n",
      "/tmp/ipykernel_20461/3502102848.py:10: UserWarning: Glyph 5764 (\\N{OGHAM LETTER SAIL}) missing from font(s) Arial.\n",
      "  plt.tight_layout()\n",
      "/tmp/ipykernel_20461/3502102848.py:10: UserWarning: Glyph 5788 (\\N{OGHAM REVERSED FEATHER MARK}) missing from font(s) Arial.\n",
      "  plt.tight_layout()\n",
      "/tmp/ipykernel_20461/3502102848.py:10: UserWarning: Glyph 127817 (\\N{WATERMELON}) missing from font(s) Arial.\n",
      "  plt.tight_layout()\n",
      "/tmp/ipykernel_20461/3502102848.py:10: UserWarning: Glyph 127477 (\\N{REGIONAL INDICATOR SYMBOL LETTER P}) missing from font(s) Arial.\n",
      "  plt.tight_layout()\n",
      "/tmp/ipykernel_20461/3502102848.py:10: UserWarning: Glyph 127480 (\\N{REGIONAL INDICATOR SYMBOL LETTER S}) missing from font(s) Arial.\n",
      "  plt.tight_layout()\n",
      "/tmp/ipykernel_20461/3502102848.py:10: UserWarning: Glyph 120143 (\\N{MATHEMATICAL DOUBLE-STRUCK CAPITAL X}) missing from font(s) Arial.\n",
      "  plt.tight_layout()\n",
      "/home/esube/miniconda3/lib/python3.12/site-packages/IPython/core/pylabtools.py:170: UserWarning: Glyph 5787 (\\N{OGHAM FEATHER MARK}) missing from font(s) Arial.\n",
      "  fig.canvas.print_figure(bytes_io, **kw)\n",
      "/home/esube/miniconda3/lib/python3.12/site-packages/IPython/core/pylabtools.py:170: UserWarning: Glyph 5763 (\\N{OGHAM LETTER FEARN}) missing from font(s) Arial.\n",
      "  fig.canvas.print_figure(bytes_io, **kw)\n",
      "/home/esube/miniconda3/lib/python3.12/site-packages/IPython/core/pylabtools.py:170: UserWarning: Glyph 5778 (\\N{OGHAM LETTER UR}) missing from font(s) Arial.\n",
      "  fig.canvas.print_figure(bytes_io, **kw)\n",
      "/home/esube/miniconda3/lib/python3.12/site-packages/IPython/core/pylabtools.py:170: UserWarning: Glyph 5769 (\\N{OGHAM LETTER COLL}) missing from font(s) Arial.\n",
      "  fig.canvas.print_figure(bytes_io, **kw)\n",
      "/home/esube/miniconda3/lib/python3.12/site-packages/IPython/core/pylabtools.py:170: UserWarning: Glyph 5765 (\\N{OGHAM LETTER NION}) missing from font(s) Arial.\n",
      "  fig.canvas.print_figure(bytes_io, **kw)\n",
      "/home/esube/miniconda3/lib/python3.12/site-packages/IPython/core/pylabtools.py:170: UserWarning: Glyph 5774 (\\N{OGHAM LETTER STRAIF}) missing from font(s) Arial.\n",
      "  fig.canvas.print_figure(bytes_io, **kw)\n",
      "/home/esube/miniconda3/lib/python3.12/site-packages/IPython/core/pylabtools.py:170: UserWarning: Glyph 5764 (\\N{OGHAM LETTER SAIL}) missing from font(s) Arial.\n",
      "  fig.canvas.print_figure(bytes_io, **kw)\n",
      "/home/esube/miniconda3/lib/python3.12/site-packages/IPython/core/pylabtools.py:170: UserWarning: Glyph 5788 (\\N{OGHAM REVERSED FEATHER MARK}) missing from font(s) Arial.\n",
      "  fig.canvas.print_figure(bytes_io, **kw)\n",
      "/home/esube/miniconda3/lib/python3.12/site-packages/IPython/core/pylabtools.py:170: UserWarning: Glyph 127817 (\\N{WATERMELON}) missing from font(s) Arial.\n",
      "  fig.canvas.print_figure(bytes_io, **kw)\n",
      "/home/esube/miniconda3/lib/python3.12/site-packages/IPython/core/pylabtools.py:170: UserWarning: Glyph 127477 (\\N{REGIONAL INDICATOR SYMBOL LETTER P}) missing from font(s) Arial.\n",
      "  fig.canvas.print_figure(bytes_io, **kw)\n",
      "/home/esube/miniconda3/lib/python3.12/site-packages/IPython/core/pylabtools.py:170: UserWarning: Glyph 127480 (\\N{REGIONAL INDICATOR SYMBOL LETTER S}) missing from font(s) Arial.\n",
      "  fig.canvas.print_figure(bytes_io, **kw)\n",
      "/home/esube/miniconda3/lib/python3.12/site-packages/IPython/core/pylabtools.py:170: UserWarning: Glyph 120143 (\\N{MATHEMATICAL DOUBLE-STRUCK CAPITAL X}) missing from font(s) Arial.\n",
      "  fig.canvas.print_figure(bytes_io, **kw)\n"
     ]
    },
    {
     "data": {
      "text/plain": [
       "<Figure size 1000x600 with 1 Axes>"
      ],
      "image/png": "[encoded data removed]"
     },
     "metadata": {},
     "output_type": "display_data"
    }
   ],
   "execution_count": 11
  },
  {
   "metadata": {
    "ExecuteTime": {
     "end_time": "2024-12-02T13:02:38.883477Z",
     "start_time": "2024-12-02T13:02:37.391805Z"
    }
   },
   "cell_type": "code",
   "source": [
    "# Check text distribution and trends\n",
    "\n",
    "\n",
    "\n",
    "df['text_length'] = df['text'].str.len()\n",
    "plt.hist(df['text_length'], bins=50)\n",
    "plt.title(\"Text Length Distribution\")\n",
    "plt.xlabel(\"Text Length\")\n",
    "plt.ylabel(\"Frequency\")\n",
    "plt.show()\n",
    "\n",
    "\n",
    "df['date'] = pd.to_datetime(df['date'])\n",
    "plt.figure(figsize=(10, 6))\n",
    "df['date'].dt.date.value_counts().sort_index().plot(kind='line')\n",
    "plt.title(\"Messages Over Time\")\n",
    "plt.xlabel(\"Date\")\n",
    "plt.ylabel(\"Number of Messages\")\n",
    "plt.grid()\n",
    "plt.show()\n"
   ],
   "id": "ff734e1f4d449682",
   "outputs": [
    {
     "data": {
      "text/plain": [
       "<Figure size 640x480 with 1 Axes>"
      ],
      "image/png": "[encoded data removed]"
     },
     "metadata": {},
     "output_type": "display_data"
    },
    {
     "data": {
      "text/plain": [
       "<Figure size 1000x600 with 1 Axes>"
      ],
      "image/png": "[encoded data removed]"
     },
     "metadata": {},
     "output_type": "display_data"
    }
   ],
   "execution_count": 12
  },
  {
   "metadata": {},
   "cell_type": "markdown",
   "source": [
    "# Data Cleaning\n",
    "We will clean the chat data by removing irrelevant columns, removing null or empty text, removing emojis, removing special characters, numbers, and punctuation, converting text to lowercase, removing short messages, and duplicates, and tokenizing the text into sentences. This will help us to prepare the data for sentiment analysis and improve the performance of the sentiment analysis model.\n",
    "## why we need to clean the data\n",
    "As we need to identify the mood of text message we need only the text message.  We don't need user, time, date and other information in the chat data so we need to remove them. We also need to remove null or empty text, emojis, special characters, numbers, and punctuation, convert text to lowercase, remove short messages, and duplicates, and tokenize the text into sentences. This will help us to prepare the data for sentiment analysis and improve the performance of the sentiment analysis model."
   ],
   "id": "82ca14122efef437"
  },
  {
   "metadata": {
    "ExecuteTime": {
     "end_time": "2024-12-02T13:08:41.787587Z",
     "start_time": "2024-12-02T13:08:36.754009Z"
    }
   },
   "cell_type": "code",
   "source": [
    "# Step 1: Extract the relevant columns (just text)\n",
    "df = pd.DataFrame(chat_data['messages'])\n",
    "df = df[['text']]  # Keep only the text column\n",
    "df.head()"
   ],
   "id": "a2aa774d12fcc462",
   "outputs": [
    {
     "data": {
      "text/plain": [
       "  text\n",
       "0     \n",
       "1     \n",
       "2     \n",
       "3     \n",
       "4     "
      ],
      "text/html": [
       "<div>\n",
       "<style scoped>\n",
       "    .dataframe tbody tr th:only-of-type {\n",
       "        vertical-align: middle;\n",
       "    }\n",
       "\n",
       "    .dataframe tbody tr th {\n",
       "        vertical-align: top;\n",
       "    }\n",
       "\n",
       "    .dataframe thead th {\n",
       "        text-align: right;\n",
       "    }\n",
       "</style>\n",
       "<table border=\"1\" class=\"dataframe\">\n",
       "  <thead>\n",
       "    <tr style=\"text-align: right;\">\n",
       "      <th></th>\n",
       "      <th>text</th>\n",
       "    </tr>\n",
       "  </thead>\n",
       "  <tbody>\n",
       "    <tr>\n",
       "      <th>0</th>\n",
       "      <td></td>\n",
       "    </tr>\n",
       "    <tr>\n",
       "      <th>1</th>\n",
       "      <td></td>\n",
       "    </tr>\n",
       "    <tr>\n",
       "      <th>2</th>\n",
       "      <td></td>\n",
       "    </tr>\n",
       "    <tr>\n",
       "      <th>3</th>\n",
       "      <td></td>\n",
       "    </tr>\n",
       "    <tr>\n",
       "      <th>4</th>\n",
       "      <td></td>\n",
       "    </tr>\n",
       "  </tbody>\n",
       "</table>\n",
       "</div>"
      ]
     },
     "execution_count": 14,
     "metadata": {},
     "output_type": "execute_result"
    }
   ],
   "execution_count": 14
  },
  {
   "metadata": {
    "ExecuteTime": {
     "end_time": "2024-12-02T13:08:45.057606Z",
     "start_time": "2024-12-02T13:08:44.665063Z"
    }
   },
   "cell_type": "code",
   "source": [
    "# Step 2: Remove rows with null or empty text\n",
    "df = df[df['text'].notna() & (df['text'].str.strip() != '')]\n",
    "df.head()"
   ],
   "id": "6feca31c9a0a802b",
   "outputs": [
    {
     "data": {
      "text/plain": [
       "                                                 text\n",
       "8   [Hey!  This is a chat where you can talk about...\n",
       "26  Hello for everyone! My name is Davronbek Rusta...\n",
       "29                                  Welcome everyone!\n",
       "32                                     Hello! \\(^-^)/\n",
       "36                                            Bonjour"
      ],
      "text/html": [
       "<div>\n",
       "<style scoped>\n",
       "    .dataframe tbody tr th:only-of-type {\n",
       "        vertical-align: middle;\n",
       "    }\n",
       "\n",
       "    .dataframe tbody tr th {\n",
       "        vertical-align: top;\n",
       "    }\n",
       "\n",
       "    .dataframe thead th {\n",
       "        text-align: right;\n",
       "    }\n",
       "</style>\n",
       "<table border=\"1\" class=\"dataframe\">\n",
       "  <thead>\n",
       "    <tr style=\"text-align: right;\">\n",
       "      <th></th>\n",
       "      <th>text</th>\n",
       "    </tr>\n",
       "  </thead>\n",
       "  <tbody>\n",
       "    <tr>\n",
       "      <th>8</th>\n",
       "      <td>[Hey!  This is a chat where you can talk about...</td>\n",
       "    </tr>\n",
       "    <tr>\n",
       "      <th>26</th>\n",
       "      <td>Hello for everyone! My name is Davronbek Rusta...</td>\n",
       "    </tr>\n",
       "    <tr>\n",
       "      <th>29</th>\n",
       "      <td>Welcome everyone!</td>\n",
       "    </tr>\n",
       "    <tr>\n",
       "      <th>32</th>\n",
       "      <td>Hello! \\(^-^)/</td>\n",
       "    </tr>\n",
       "    <tr>\n",
       "      <th>36</th>\n",
       "      <td>Bonjour</td>\n",
       "    </tr>\n",
       "  </tbody>\n",
       "</table>\n",
       "</div>"
      ]
     },
     "execution_count": 15,
     "metadata": {},
     "output_type": "execute_result"
    }
   ],
   "execution_count": 15
  },
  {
   "metadata": {
    "ExecuteTime": {
     "end_time": "2024-12-02T13:08:48.982692Z",
     "start_time": "2024-12-02T13:08:48.042153Z"
    }
   },
   "cell_type": "code",
   "source": [
    "# Step 3: Remove emojis (non-ASCII characters)\n",
    "df['text'] = df['text'].str.replace(r'[^\\x00-\\x7F]+', '', regex=True)\n",
    "df.head()"
   ],
   "id": "ff9fb72618520260",
   "outputs": [
    {
     "data": {
      "text/plain": [
       "                                                 text\n",
       "8                                                 NaN\n",
       "26  Hello for everyone! My name is Davronbek Rusta...\n",
       "29                                  Welcome everyone!\n",
       "32                                     Hello! \\(^-^)/\n",
       "36                                            Bonjour"
      ],
      "text/html": [
       "<div>\n",
       "<style scoped>\n",
       "    .dataframe tbody tr th:only-of-type {\n",
       "        vertical-align: middle;\n",
       "    }\n",
       "\n",
       "    .dataframe tbody tr th {\n",
       "        vertical-align: top;\n",
       "    }\n",
       "\n",
       "    .dataframe thead th {\n",
       "        text-align: right;\n",
       "    }\n",
       "</style>\n",
       "<table border=\"1\" class=\"dataframe\">\n",
       "  <thead>\n",
       "    <tr style=\"text-align: right;\">\n",
       "      <th></th>\n",
       "      <th>text</th>\n",
       "    </tr>\n",
       "  </thead>\n",
       "  <tbody>\n",
       "    <tr>\n",
       "      <th>8</th>\n",
       "      <td>NaN</td>\n",
       "    </tr>\n",
       "    <tr>\n",
       "      <th>26</th>\n",
       "      <td>Hello for everyone! My name is Davronbek Rusta...</td>\n",
       "    </tr>\n",
       "    <tr>\n",
       "      <th>29</th>\n",
       "      <td>Welcome everyone!</td>\n",
       "    </tr>\n",
       "    <tr>\n",
       "      <th>32</th>\n",
       "      <td>Hello! \\(^-^)/</td>\n",
       "    </tr>\n",
       "    <tr>\n",
       "      <th>36</th>\n",
       "      <td>Bonjour</td>\n",
       "    </tr>\n",
       "  </tbody>\n",
       "</table>\n",
       "</div>"
      ]
     },
     "execution_count": 16,
     "metadata": {},
     "output_type": "execute_result"
    }
   ],
   "execution_count": 16
  },
  {
   "metadata": {
    "ExecuteTime": {
     "end_time": "2024-12-02T13:08:52.500756Z",
     "start_time": "2024-12-02T13:08:51.788729Z"
    }
   },
   "cell_type": "code",
   "source": [
    "# Step 4: Remove special characters, numbers, and punctuation (keep only alphabets and spaces)\n",
    "\n",
    "df['text'] = df['text'].str.replace(r\"[^a-zA-Z\\s]\", '', regex=True)\n",
    "df.tail()"
   ],
   "id": "1d512856382e3558",
   "outputs": [
    {
     "data": {
      "text/plain": [
       "                                                     text\n",
       "474259                                                NaN\n",
       "474260                               Thanks for your help\n",
       "474261  Can i edit message with media and delete media...\n",
       "474262                                  Why you ignore me\n",
       "474263  Because your message doesnt make sense What is..."
      ],
      "text/html": [
       "<div>\n",
       "<style scoped>\n",
       "    .dataframe tbody tr th:only-of-type {\n",
       "        vertical-align: middle;\n",
       "    }\n",
       "\n",
       "    .dataframe tbody tr th {\n",
       "        vertical-align: top;\n",
       "    }\n",
       "\n",
       "    .dataframe thead th {\n",
       "        text-align: right;\n",
       "    }\n",
       "</style>\n",
       "<table border=\"1\" class=\"dataframe\">\n",
       "  <thead>\n",
       "    <tr style=\"text-align: right;\">\n",
       "      <th></th>\n",
       "      <th>text</th>\n",
       "    </tr>\n",
       "  </thead>\n",
       "  <tbody>\n",
       "    <tr>\n",
       "      <th>474259</th>\n",
       "      <td>NaN</td>\n",
       "    </tr>\n",
       "    <tr>\n",
       "      <th>474260</th>\n",
       "      <td>Thanks for your help</td>\n",
       "    </tr>\n",
       "    <tr>\n",
       "      <th>474261</th>\n",
       "      <td>Can i edit message with media and delete media...</td>\n",
       "    </tr>\n",
       "    <tr>\n",
       "      <th>474262</th>\n",
       "      <td>Why you ignore me</td>\n",
       "    </tr>\n",
       "    <tr>\n",
       "      <th>474263</th>\n",
       "      <td>Because your message doesnt make sense What is...</td>\n",
       "    </tr>\n",
       "  </tbody>\n",
       "</table>\n",
       "</div>"
      ]
     },
     "execution_count": 17,
     "metadata": {},
     "output_type": "execute_result"
    }
   ],
   "execution_count": 17
  },
  {
   "metadata": {
    "ExecuteTime": {
     "end_time": "2024-12-02T13:08:55.157585Z",
     "start_time": "2024-12-02T13:08:54.827050Z"
    }
   },
   "cell_type": "code",
   "source": [
    "# Step 5: Convert text to lowercase and strip extra spaces, and NaN values\n",
    "df['text'] = df['text'].str.lower().str.strip()\n",
    "df['text'] = df['text'].fillna('')\n",
    "df.tail()"
   ],
   "id": "73308845ef8b114d",
   "outputs": [
    {
     "data": {
      "text/plain": [
       "                                                     text\n",
       "474259                                                   \n",
       "474260                               thanks for your help\n",
       "474261  can i edit message with media and delete media...\n",
       "474262                                  why you ignore me\n",
       "474263  because your message doesnt make sense what is..."
      ],
      "text/html": [
       "<div>\n",
       "<style scoped>\n",
       "    .dataframe tbody tr th:only-of-type {\n",
       "        vertical-align: middle;\n",
       "    }\n",
       "\n",
       "    .dataframe tbody tr th {\n",
       "        vertical-align: top;\n",
       "    }\n",
       "\n",
       "    .dataframe thead th {\n",
       "        text-align: right;\n",
       "    }\n",
       "</style>\n",
       "<table border=\"1\" class=\"dataframe\">\n",
       "  <thead>\n",
       "    <tr style=\"text-align: right;\">\n",
       "      <th></th>\n",
       "      <th>text</th>\n",
       "    </tr>\n",
       "  </thead>\n",
       "  <tbody>\n",
       "    <tr>\n",
       "      <th>474259</th>\n",
       "      <td></td>\n",
       "    </tr>\n",
       "    <tr>\n",
       "      <th>474260</th>\n",
       "      <td>thanks for your help</td>\n",
       "    </tr>\n",
       "    <tr>\n",
       "      <th>474261</th>\n",
       "      <td>can i edit message with media and delete media...</td>\n",
       "    </tr>\n",
       "    <tr>\n",
       "      <th>474262</th>\n",
       "      <td>why you ignore me</td>\n",
       "    </tr>\n",
       "    <tr>\n",
       "      <th>474263</th>\n",
       "      <td>because your message doesnt make sense what is...</td>\n",
       "    </tr>\n",
       "  </tbody>\n",
       "</table>\n",
       "</div>"
      ]
     },
     "execution_count": 18,
     "metadata": {},
     "output_type": "execute_result"
    }
   ],
   "execution_count": 18
  },
  {
   "metadata": {
    "ExecuteTime": {
     "end_time": "2024-12-02T13:08:58.229262Z",
     "start_time": "2024-12-02T13:08:57.961193Z"
    }
   },
   "cell_type": "code",
   "source": [
    "# Step 6: Remove short messages (less than 3 characters) and duplicates\n",
    "df = df[df['text'].str.len() > 3]\n",
    "df = df.drop_duplicates(subset=['text'], keep='first')\n",
    "df.head()"
   ],
   "id": "cbdf893024b2fec7",
   "outputs": [
    {
     "data": {
      "text/plain": [
       "                                                 text\n",
       "26  hello for everyone my name is davronbek rustam...\n",
       "29                                   welcome everyone\n",
       "32                                              hello\n",
       "36                                            bonjour\n",
       "44                                       bonjour love"
      ],
      "text/html": [
       "<div>\n",
       "<style scoped>\n",
       "    .dataframe tbody tr th:only-of-type {\n",
       "        vertical-align: middle;\n",
       "    }\n",
       "\n",
       "    .dataframe tbody tr th {\n",
       "        vertical-align: top;\n",
       "    }\n",
       "\n",
       "    .dataframe thead th {\n",
       "        text-align: right;\n",
       "    }\n",
       "</style>\n",
       "<table border=\"1\" class=\"dataframe\">\n",
       "  <thead>\n",
       "    <tr style=\"text-align: right;\">\n",
       "      <th></th>\n",
       "      <th>text</th>\n",
       "    </tr>\n",
       "  </thead>\n",
       "  <tbody>\n",
       "    <tr>\n",
       "      <th>26</th>\n",
       "      <td>hello for everyone my name is davronbek rustam...</td>\n",
       "    </tr>\n",
       "    <tr>\n",
       "      <th>29</th>\n",
       "      <td>welcome everyone</td>\n",
       "    </tr>\n",
       "    <tr>\n",
       "      <th>32</th>\n",
       "      <td>hello</td>\n",
       "    </tr>\n",
       "    <tr>\n",
       "      <th>36</th>\n",
       "      <td>bonjour</td>\n",
       "    </tr>\n",
       "    <tr>\n",
       "      <th>44</th>\n",
       "      <td>bonjour love</td>\n",
       "    </tr>\n",
       "  </tbody>\n",
       "</table>\n",
       "</div>"
      ]
     },
     "execution_count": 19,
     "metadata": {},
     "output_type": "execute_result"
    }
   ],
   "execution_count": 19
  },
  {
   "metadata": {
    "ExecuteTime": {
     "end_time": "2024-12-02T13:09:02.415800Z",
     "start_time": "2024-12-02T13:09:01.406121Z"
    }
   },
   "cell_type": "code",
   "source": [
    "# Step 7: Tokenize the text into sentences\n",
    "\n",
    "df = df['text'].apply(sent_tokenize).explode().reset_index(drop=True)\n",
    "\n",
    "df = pd.DataFrame(df, columns=['text'])\n",
    "\n",
    "# Check the result\n",
    "df.head()\n"
   ],
   "id": "70399ecd5561314d",
   "outputs": [
    {
     "data": {
      "text/plain": [
       "                                                text\n",
       "0  hello for everyone my name is davronbek rustam...\n",
       "1                                   welcome everyone\n",
       "2                                              hello\n",
       "3                                            bonjour\n",
       "4                                       bonjour love"
      ],
      "text/html": [
       "<div>\n",
       "<style scoped>\n",
       "    .dataframe tbody tr th:only-of-type {\n",
       "        vertical-align: middle;\n",
       "    }\n",
       "\n",
       "    .dataframe tbody tr th {\n",
       "        vertical-align: top;\n",
       "    }\n",
       "\n",
       "    .dataframe thead th {\n",
       "        text-align: right;\n",
       "    }\n",
       "</style>\n",
       "<table border=\"1\" class=\"dataframe\">\n",
       "  <thead>\n",
       "    <tr style=\"text-align: right;\">\n",
       "      <th></th>\n",
       "      <th>text</th>\n",
       "    </tr>\n",
       "  </thead>\n",
       "  <tbody>\n",
       "    <tr>\n",
       "      <th>0</th>\n",
       "      <td>hello for everyone my name is davronbek rustam...</td>\n",
       "    </tr>\n",
       "    <tr>\n",
       "      <th>1</th>\n",
       "      <td>welcome everyone</td>\n",
       "    </tr>\n",
       "    <tr>\n",
       "      <th>2</th>\n",
       "      <td>hello</td>\n",
       "    </tr>\n",
       "    <tr>\n",
       "      <th>3</th>\n",
       "      <td>bonjour</td>\n",
       "    </tr>\n",
       "    <tr>\n",
       "      <th>4</th>\n",
       "      <td>bonjour love</td>\n",
       "    </tr>\n",
       "  </tbody>\n",
       "</table>\n",
       "</div>"
      ]
     },
     "execution_count": 20,
     "metadata": {},
     "output_type": "execute_result"
    }
   ],
   "execution_count": 20
  },
  {
   "metadata": {},
   "cell_type": "markdown",
   "source": [
    "# Data Cleaning Summary \n",
    "After cleaning the chat data, we have removed irrelevant columns, removed null or empty text, removed emojis, removed special characters, numbers, and punctuation, converted text to lowercase, removed short messages, and duplicates, and tokenized the text into sentences. The cleaned data is now ready for sentiment analysis. Before that we can take a look at the cleaned data and see how it looks like as compared to the original data. "
   ],
   "id": "b01559f673f4b070"
  },
  {
   "metadata": {},
   "cell_type": "markdown",
   "source": [
    "## Total number of messages: 300,000\n",
    "The number of messages after cleaning is 300,000, which is a significant reduction from the original number of messages. The original was more than 400, 000.  This shows that the cleaning process was effective in removing irrelevant and duplicate messages from the chat data."
   ],
   "id": "8422dcd64c84f627"
  },
  {
   "metadata": {
    "ExecuteTime": {
     "end_time": "2024-12-02T13:09:06.244885Z",
     "start_time": "2024-12-02T13:09:05.884023Z"
    }
   },
   "cell_type": "code",
   "source": [
    "# after I made  clean action on the chat data we can see how it looks like \n",
    "\n",
    "\n",
    "df['word_count'] = df['text'].apply(lambda x: len(x.split()))\n",
    "\n",
    "# Summary statistics\n",
    "num_messages = df.shape[0]\n",
    "avg_word_count = df['word_count'].mean()\n",
    "\n",
    "print(f\"Total number of messages: {num_messages}\")\n",
    "print(f\"Average word count per message: {avg_word_count:.2f}\")\n"
   ],
   "id": "309680b75fc68211",
   "outputs": [
    {
     "name": "stdout",
     "output_type": "stream",
     "text": [
      "Total number of messages: 306625\n",
      "Average word count per message: 12.54\n"
     ]
    }
   ],
   "execution_count": 21
  },
  {
   "metadata": {
    "ExecuteTime": {
     "end_time": "2024-12-02T13:09:14.405127Z",
     "start_time": "2024-12-02T13:09:12.493428Z"
    }
   },
   "cell_type": "code",
   "source": [
    "# Visualize the word count distribution\n",
    "\n",
    "\n",
    "plt.figure(figsize=(10, 6))\n",
    "sns.histplot(df['word_count'], bins=30, kde=True, color='blue')\n",
    "plt.title('Word Count Distribution After Cleaning')\n",
    "plt.xlabel('Word Count')\n",
    "plt.ylabel('Frequency')\n",
    "plt.show()\n"
   ],
   "id": "b596c352c3788846",
   "outputs": [
    {
     "data": {
      "text/plain": [
       "<Figure size 1000x600 with 1 Axes>"
      ],
      "image/png": "[encoded data removed]"
     },
     "metadata": {},
     "output_type": "display_data"
    }
   ],
   "execution_count": 22
  },
  {
   "metadata": {},
   "cell_type": "markdown",
   "source": "The number of messages (Text) before cleaning was far more than 400, 000 and after cleaning as shown below is in 300,000 this shows the cleaning contributed a lot in reducing the number of messages  ",
   "id": "5d579b20ba056758"
  },
  {
   "metadata": {
    "ExecuteTime": {
     "end_time": "2024-12-02T13:09:33.623012Z",
     "start_time": "2024-12-02T13:09:33.458576Z"
    }
   },
   "cell_type": "code",
   "source": [
    "# we can compare the number of messages before and after cleaning\n",
    "\n",
    "# Visualization: Number of Messages After Processing\n",
    "num_messages_after = df.shape[0]\n",
    "\n",
    "plt.figure(figsize=(8, 6))\n",
    "plt.bar(['After Processing'], [num_messages_after], color='green')\n",
    "plt.title('Number of Messages After Processing')\n",
    "plt.ylabel('Number of Messages')\n",
    "plt.show()\n"
   ],
   "id": "602db4970f9db145",
   "outputs": [
    {
     "data": {
      "text/plain": [
       "<Figure size 800x600 with 1 Axes>"
      ],
      "image/png": "[encoded data removed]"
     },
     "metadata": {},
     "output_type": "display_data"
    }
   ],
   "execution_count": 23
  },
  {
   "metadata": {},
   "cell_type": "markdown",
   "source": "Below shows the number of messages before and after processing",
   "id": "2dd0e76f52e6f230"
  },
  {
   "metadata": {},
   "cell_type": "markdown",
   "source": "# Comparison: Number of Messages Before and After Processing",
   "id": "c0d25d793c14ea83"
  },
  {
   "metadata": {
    "ExecuteTime": {
     "end_time": "2024-12-02T13:09:57.470215Z",
     "start_time": "2024-12-02T13:09:57.301586Z"
    }
   },
   "cell_type": "code",
   "source": [
    "# Comparison: Number of Messages Before and After Processing\n",
    "plt.figure(figsize=(10, 6))\n",
    "plt.bar(['Before Processing', 'After Processing'], \n",
    "        [num_messages_before, num_messages_after], \n",
    "        color=['blue', 'green'])\n",
    "plt.title('Number of Messages Before and After Processing')\n",
    "plt.ylabel('Number of Messages')\n",
    "plt.show()\n"
   ],
   "id": "6dda6cea84c5ecc5",
   "outputs": [
    {
     "data": {
      "text/plain": [
       "<Figure size 1000x600 with 1 Axes>"
      ],
      "image/png": "[encoded data removed]"
     },
     "metadata": {},
     "output_type": "display_data"
    }
   ],
   "execution_count": 24
  },
  {
   "metadata": {},
   "cell_type": "markdown",
   "source": [
    "# Text Vectorization\n",
    "We will use the TF-IDF (Term Frequency-Inverse Document Frequency) vectorization technique to convert the text data into numerical features that can be used for sentiment analysis. This will help us to represent the text data in a format that can be used by machine learning algorithms. We will use the TF-IDF vectorizer to convert the text data into a matrix of TF-IDF features. The TF-IDF vectorizer will convert the text data into a matrix of TF-IDF features, which will be used as input to the sentiment analysis model. We will also add a sentiment label to the text data based on the sentiment of the text messages. This will help us to train a sentiment analysis model that can classify the sentiment of chat messages as positive, negative, or neutral."
   ],
   "id": "8e93fd22523819a8"
  },
  {
   "metadata": {
    "ExecuteTime": {
     "end_time": "2024-12-02T13:14:43.960312Z",
     "start_time": "2024-12-02T13:14:39.930896Z"
    }
   },
   "cell_type": "code",
   "source": [
    "\n",
    "# TF-IDF Vectorization and saving it for later use\n",
    "\n",
    "tfidf = TfidfVectorizer(max_features=10000) \n",
    "\n",
    "X_tfidf = tfidf.fit_transform(df['text'])\n",
    "\n",
    "# Check the shape of the transformed data\n",
    "print(X_tfidf.shape)\n",
    "\n",
    "\n",
    "joblib.dump(tfidf, 'models/tfidf_vectorizer.pkl')"
   ],
   "id": "1948d16003b20bbb",
   "outputs": [
    {
     "name": "stdout",
     "output_type": "stream",
     "text": [
      "(306625, 10000)\n"
     ]
    },
    {
     "data": {
      "text/plain": [
       "['models/tfidf_vectorizer.pkl']"
      ]
     },
     "execution_count": 25,
     "metadata": {},
     "output_type": "execute_result"
    }
   ],
   "execution_count": 25
  },
  {
   "metadata": {},
   "cell_type": "markdown",
   "source": [
    "# Adding Sentiment Labels\n",
    "We will add sentiment labels to the text data based on the sentiment of the text messages. We will use the VADER (Valence Aware Dictionary and sEntiment Reasoner) sentiment analysis tool to analyze the sentiment of the text messages and assign sentiment labels to the text data. The VADER sentiment analysis tool is specifically designed for social media text and provides a sentiment score for each text message."
   ],
   "id": "3b0fddb47130e4b0"
  },
  {
   "metadata": {
    "ExecuteTime": {
     "end_time": "2024-12-02T13:16:13.796942Z",
     "start_time": "2024-12-02T13:15:55.110894Z"
    }
   },
   "cell_type": "code",
   "source": [
    "# adding sentiment to the text data\n",
    "\n",
    "analyzer = SentimentIntensityAnalyzer()\n",
    "\n",
    "\n",
    "df['sentiment'] = df['text'].apply(lambda x: 'positive' if analyzer.polarity_scores(x)['compound'] > 0 \n",
    "                                   else 'negative' if analyzer.polarity_scores(x)['compound'] < 0 \n",
    "                                   else 'neutral')\n",
    "\n",
    "\n",
    "df.head()"
   ],
   "id": "f31828e7faec477d",
   "outputs": [
    {
     "data": {
      "text/plain": [
       "                                                text  word_count sentiment\n",
       "0  hello for everyone my name is davronbek rustam...          14  positive\n",
       "1                                   welcome everyone           2  positive\n",
       "2                                              hello           1   neutral\n",
       "3                                            bonjour           1   neutral\n",
       "4                                       bonjour love           2  positive"
      ],
      "text/html": [
       "<div>\n",
       "<style scoped>\n",
       "    .dataframe tbody tr th:only-of-type {\n",
       "        vertical-align: middle;\n",
       "    }\n",
       "\n",
       "    .dataframe tbody tr th {\n",
       "        vertical-align: top;\n",
       "    }\n",
       "\n",
       "    .dataframe thead th {\n",
       "        text-align: right;\n",
       "    }\n",
       "</style>\n",
       "<table border=\"1\" class=\"dataframe\">\n",
       "  <thead>\n",
       "    <tr style=\"text-align: right;\">\n",
       "      <th></th>\n",
       "      <th>text</th>\n",
       "      <th>word_count</th>\n",
       "      <th>sentiment</th>\n",
       "    </tr>\n",
       "  </thead>\n",
       "  <tbody>\n",
       "    <tr>\n",
       "      <th>0</th>\n",
       "      <td>hello for everyone my name is davronbek rustam...</td>\n",
       "      <td>14</td>\n",
       "      <td>positive</td>\n",
       "    </tr>\n",
       "    <tr>\n",
       "      <th>1</th>\n",
       "      <td>welcome everyone</td>\n",
       "      <td>2</td>\n",
       "      <td>positive</td>\n",
       "    </tr>\n",
       "    <tr>\n",
       "      <th>2</th>\n",
       "      <td>hello</td>\n",
       "      <td>1</td>\n",
       "      <td>neutral</td>\n",
       "    </tr>\n",
       "    <tr>\n",
       "      <th>3</th>\n",
       "      <td>bonjour</td>\n",
       "      <td>1</td>\n",
       "      <td>neutral</td>\n",
       "    </tr>\n",
       "    <tr>\n",
       "      <th>4</th>\n",
       "      <td>bonjour love</td>\n",
       "      <td>2</td>\n",
       "      <td>positive</td>\n",
       "    </tr>\n",
       "  </tbody>\n",
       "</table>\n",
       "</div>"
      ]
     },
     "execution_count": 26,
     "metadata": {},
     "output_type": "execute_result"
    }
   ],
   "execution_count": 26
  },
  {
   "metadata": {},
   "cell_type": "markdown",
   "source": " # Distribution of Sentiment Labels",
   "id": "752de20fa48400a9"
  },
  {
   "metadata": {
    "ExecuteTime": {
     "end_time": "2024-12-02T13:16:39.738963Z",
     "start_time": "2024-12-02T13:16:38.310659Z"
    }
   },
   "cell_type": "code",
   "source": [
    "\n",
    "# Visualize the sentiment distribution this will how the sentiment is distributed in the chat data\n",
    "\n",
    "plt.figure(figsize=(8,6))\n",
    "sns.countplot(x='sentiment', data=df, hue='sentiment', palette='Set2', legend=False)\n",
    "plt.title('Sentiment Distribution')\n",
    "plt.xlabel('Sentiment')\n",
    "plt.ylabel('Count')\n",
    "plt.show()\n"
   ],
   "id": "72b1c50e68dd25f2",
   "outputs": [
    {
     "data": {
      "text/plain": [
       "<Figure size 800x600 with 1 Axes>"
      ],
      "image/png": "[encoded data removed]"
     },
     "metadata": {},
     "output_type": "display_data"
    }
   ],
   "execution_count": 27
  },
  {
   "metadata": {},
   "cell_type": "markdown",
   "source": [
    "# Encoding the Sentiment Labels\n",
    "We will encode the sentiment labels using LabelEncoder to convert the sentiment labels into numerical values that can be used by machine learning algorithms. This will help us to train a sentiment analysis model that can classify the sentiment of chat messages as positive, negative, or neutral."
   ],
   "id": "2d9608775325879b"
  },
  {
   "metadata": {
    "ExecuteTime": {
     "end_time": "2024-12-02T13:17:27.295583Z",
     "start_time": "2024-12-02T13:17:27.208973Z"
    }
   },
   "cell_type": "code",
   "source": [
    "# Encoding the sentiment labels using LabelEncoder  and save the label encoder for later use\n",
    "\n",
    "label_encoder = LabelEncoder()\n",
    "\n",
    "\n",
    "y = label_encoder.fit_transform(df['sentiment'])\n",
    "\n",
    "\n",
    "joblib.dump(label_encoder, 'models/label_encoder.pkl')\n",
    "\n",
    "\n",
    "print(label_encoder.classes_)\n",
    "print(y[:100]) \n",
    "df.head(1000)\n"
   ],
   "id": "3cbd7af66b3c4985",
   "outputs": [
    {
     "name": "stdout",
     "output_type": "stream",
     "text": [
      "['negative' 'neutral' 'positive']\n",
      "[2 2 1 1 2 2 0 1 0 0 1 2 2 1 1 1 0 1 2 1 1 1 0 1 1 1 2 1 0 2 2 1 2 1 1 2 2\n",
      " 1 1 1 1 2 2 1 1 1 0 1 0 1 0 1 1 0 2 1 1 2 0 1 1 2 2 1 1 2 1 1 1 2 1 1 1 2\n",
      " 2 1 1 1 1 1 1 2 2 2 1 2 2 1 2 0 0 2 2 1 1 1 1 1 2 2]\n"
     ]
    },
    {
     "data": {
      "text/plain": [
       "                                                  text  word_count sentiment\n",
       "0    hello for everyone my name is davronbek rustam...          14  positive\n",
       "1                                     welcome everyone           2  positive\n",
       "2                                                hello           1   neutral\n",
       "3                                              bonjour           1   neutral\n",
       "4                                         bonjour love           2  positive\n",
       "..                                                 ...         ...       ...\n",
       "995                                 eh choose language           3   neutral\n",
       "996  found this really cool maybe help later with g...           9  positive\n",
       "997  do you guys have good open source bots written...          23  positive\n",
       "998                              cheers youre the best           4  positive\n",
       "999                                              maybe           1   neutral\n",
       "\n",
       "[1000 rows x 3 columns]"
      ],
      "text/html": [
       "<div>\n",
       "<style scoped>\n",
       "    .dataframe tbody tr th:only-of-type {\n",
       "        vertical-align: middle;\n",
       "    }\n",
       "\n",
       "    .dataframe tbody tr th {\n",
       "        vertical-align: top;\n",
       "    }\n",
       "\n",
       "    .dataframe thead th {\n",
       "        text-align: right;\n",
       "    }\n",
       "</style>\n",
       "<table border=\"1\" class=\"dataframe\">\n",
       "  <thead>\n",
       "    <tr style=\"text-align: right;\">\n",
       "      <th></th>\n",
       "      <th>text</th>\n",
       "      <th>word_count</th>\n",
       "      <th>sentiment</th>\n",
       "    </tr>\n",
       "  </thead>\n",
       "  <tbody>\n",
       "    <tr>\n",
       "      <th>0</th>\n",
       "      <td>hello for everyone my name is davronbek rustam...</td>\n",
       "      <td>14</td>\n",
       "      <td>positive</td>\n",
       "    </tr>\n",
       "    <tr>\n",
       "      <th>1</th>\n",
       "      <td>welcome everyone</td>\n",
       "      <td>2</td>\n",
       "      <td>positive</td>\n",
       "    </tr>\n",
       "    <tr>\n",
       "      <th>2</th>\n",
       "      <td>hello</td>\n",
       "      <td>1</td>\n",
       "      <td>neutral</td>\n",
       "    </tr>\n",
       "    <tr>\n",
       "      <th>3</th>\n",
       "      <td>bonjour</td>\n",
       "      <td>1</td>\n",
       "      <td>neutral</td>\n",
       "    </tr>\n",
       "    <tr>\n",
       "      <th>4</th>\n",
       "      <td>bonjour love</td>\n",
       "      <td>2</td>\n",
       "      <td>positive</td>\n",
       "    </tr>\n",
       "    <tr>\n",
       "      <th>...</th>\n",
       "      <td>...</td>\n",
       "      <td>...</td>\n",
       "      <td>...</td>\n",
       "    </tr>\n",
       "    <tr>\n",
       "      <th>995</th>\n",
       "      <td>eh choose language</td>\n",
       "      <td>3</td>\n",
       "      <td>neutral</td>\n",
       "    </tr>\n",
       "    <tr>\n",
       "      <th>996</th>\n",
       "      <td>found this really cool maybe help later with g...</td>\n",
       "      <td>9</td>\n",
       "      <td>positive</td>\n",
       "    </tr>\n",
       "    <tr>\n",
       "      <th>997</th>\n",
       "      <td>do you guys have good open source bots written...</td>\n",
       "      <td>23</td>\n",
       "      <td>positive</td>\n",
       "    </tr>\n",
       "    <tr>\n",
       "      <th>998</th>\n",
       "      <td>cheers youre the best</td>\n",
       "      <td>4</td>\n",
       "      <td>positive</td>\n",
       "    </tr>\n",
       "    <tr>\n",
       "      <th>999</th>\n",
       "      <td>maybe</td>\n",
       "      <td>1</td>\n",
       "      <td>neutral</td>\n",
       "    </tr>\n",
       "  </tbody>\n",
       "</table>\n",
       "<p>1000 rows × 3 columns</p>\n",
       "</div>"
      ]
     },
     "execution_count": 29,
     "metadata": {},
     "output_type": "execute_result"
    }
   ],
   "execution_count": 29
  },
  {
   "metadata": {},
   "cell_type": "markdown",
   "source": [
    "# Splitting the Data\n",
    "We will split the data into training and testing sets to train the sentiment analysis model and evaluate its performance. We will use 80% of the data for training and 20% of the data for testing. This will help us to train the model on a subset of the data and evaluate its performance on unseen data."
   ],
   "id": "8d9598b54b500687"
  },
  {
   "metadata": {
    "ExecuteTime": {
     "end_time": "2024-12-02T13:19:25.144898Z",
     "start_time": "2024-12-02T13:19:24.926004Z"
    }
   },
   "cell_type": "code",
   "source": [
    "# Split the data into training and testing sets\n",
    "\n",
    "X_train, X_test, y_train, y_test = train_test_split(X_tfidf, y, test_size=0.2, random_state=42)\n",
    "\n",
    "\n",
    "print(X_train.shape, X_test.shape, y_train.shape, y_test.shape)"
   ],
   "id": "d24febb7a0247f28",
   "outputs": [
    {
     "name": "stdout",
     "output_type": "stream",
     "text": [
      "(245300, 10000) (61325, 10000) (245300,) (61325,)\n"
     ]
    }
   ],
   "execution_count": 30
  },
  {
   "metadata": {},
   "cell_type": "markdown",
   "source": [
    "# Train a Logistic Regression model for sentiment classification and evaluate its performance\n",
    "The next step is to train a sentiment analysis model using a machine learning algorithm. We will use a Logistic Regression model to classify the sentiment of chat messages as positive, negative, or neutral. We will train the model on the training data and evaluate its performance on the testing data using classification metrics such as precision, recall, and F1-score.\n",
    "\n",
    "| Class | Precision | Recall | F1-Score | Support |\n",
    "|-------|-----------|--------|----------|---------|\n",
    "| 0     | 0.86      | 0.74   | 0.80     | 11029   |\n",
    "| 1     | 0.95      | 0.99   | 0.97     | 28652   |\n",
    "| 2     | 0.90      | 0.91   | 0.91     | 21644   |\n",
    "| **Accuracy** |           |        | **0.92** | **61325** |\n",
    "| **Macro avg** | 0.91      | 0.88   | 0.89     | 61325   |\n",
    "| **Weighted avg** | 0.92      | 0.92   | 0.92     | 61325   |\n",
    "\n",
    "And the model has an accuracy of 0.92, which is quite good. The model performs well in classifying the sentiment of chat messages as positive, negative, or neutral.\n",
    "Note that class 0 is negative, class 1 is neutral, and class 2 is positive.\n"
   ],
   "id": "a1c739379a85cd7"
  },
  {
   "metadata": {
    "ExecuteTime": {
     "end_time": "2024-12-02T13:21:27.483601Z",
     "start_time": "2024-12-02T13:21:19.845870Z"
    }
   },
   "cell_type": "code",
   "source": [
    "# Train a Logistic Regression model for sentiment classification and evaluate its performance\n",
    "\n",
    "\n",
    "model = LogisticRegression(max_iter=1000)\n",
    "model.fit(X_train, y_train)\n",
    "\n",
    "\n",
    "y_pred = model.predict(X_test)\n",
    "\n",
    "\n",
    "print(classification_report(y_test, y_pred))\n",
    "\n"
   ],
   "id": "3b0fa4bbe2b40839",
   "outputs": [
    {
     "name": "stdout",
     "output_type": "stream",
     "text": [
      "              precision    recall  f1-score   support\n",
      "\n",
      "           0       0.86      0.74      0.80     11029\n",
      "           1       0.95      0.99      0.97     28652\n",
      "           2       0.90      0.91      0.91     21644\n",
      "\n",
      "    accuracy                           0.92     61325\n",
      "   macro avg       0.91      0.88      0.89     61325\n",
      "weighted avg       0.92      0.92      0.92     61325\n",
      "\n"
     ]
    }
   ],
   "execution_count": 32
  },
  {
   "metadata": {},
   "cell_type": "markdown",
   "source": [
    "# Hyperparameter Tuning\n",
    "We will use GridSearchCV to tune the hyperparameters of the Logistic Regression model and find the best parameters for the model. This will help us to improve the performance of the model and optimize the hyperparameters for better results.\n",
    "\n",
    " | Class   | Precision | Recall | F1-Score | Support |\n",
    "|---------|-----------|--------|----------|---------|\n",
    "| 0       | 0.87      | 0.78   | 0.82     | 11029   |\n",
    "| 1       | 0.98      | 0.99   | 0.99     | 28652   |\n",
    "| 2       | 0.90      | 0.93   | 0.91     | 21644   |\n",
    "| **Accuracy** |           |        | **0.93** | 61325   |\n",
    "| **Macro Avg** | 0.92      | 0.90   | 0.91     | 61325   |\n",
    "| **Weighted Avg** | 0.93      | 0.93   | 0.93     | 61325   |\n",
    "\n",
    "The model has an accuracy of 0.93 after hyperparameter tuning, which is an improvement over the initial model. The model performs well in classifying the sentiment of chat messages as positive, negative, or neutral. The hyperparameter tuning helped to optimize the model and improve its performance.\n",
    "\n"
   ],
   "id": "ec87a8266d5a5b98"
  },
  {
   "metadata": {
    "ExecuteTime": {
     "end_time": "2024-12-02T12:40:35.086451Z",
     "start_time": "2024-12-02T12:36:51.477637Z"
    }
   },
   "cell_type": "code",
   "source": [
    "# Hyperparameter Tuning using GridSearchCV for Logistic Regression model THIS WILL HELP TO FIND THE BEST PARAMETERS FOR THE MODEL\n",
    "\n",
    "\n",
    "\n",
    "\n",
    "param_grid = {'C': [0.1, 1, 10], 'solver': ['liblinear', 'lbfgs']}\n",
    "\n",
    "\n",
    "grid_search = GridSearchCV(LogisticRegression(max_iter=1000), param_grid, cv=5)\n",
    "grid_search.fit(X_train, y_train)\n",
    "\n",
    "\n",
    "print(\"Best parameters:\", grid_search.best_params_)\n",
    "print(\"Best score:\", grid_search.best_score_)\n",
    "\n",
    "# Use the best model found by GridSearchCV\n",
    "best_model = grid_search.best_estimator_\n",
    "y_pred_best = best_model.predict(X_test)\n",
    "print(classification_report(y_test, y_pred_best))\n"
   ],
   "id": "2f751d7404afc44c",
   "outputs": [
    {
     "name": "stdout",
     "output_type": "stream",
     "text": [
      "Best parameters: {'C': 10, 'solver': 'liblinear'}\n",
      "Best score: 0.9305177333876886\n",
      "              precision    recall  f1-score   support\n",
      "\n",
      "           0       0.87      0.78      0.82     11029\n",
      "           1       0.98      0.99      0.99     28652\n",
      "           2       0.90      0.93      0.91     21644\n",
      "\n",
      "    accuracy                           0.93     61325\n",
      "   macro avg       0.92      0.90      0.91     61325\n",
      "weighted avg       0.93      0.93      0.93     61325\n",
      "\n"
     ]
    }
   ],
   "execution_count": 48
  },
  {
   "metadata": {},
   "cell_type": "markdown",
   "source": [
    "# Saving the Model\n",
    "We will save the trained sentiment analysis model using joblib so that we can use it later to predict the sentiment of new chat messages. The model will be saved as a .pkl file in the models directory. This will help us to reuse the model without having to retrain it every time we want to make predictions."
   ],
   "id": "56408fb9f2b6bd12"
  },
  {
   "metadata": {
    "ExecuteTime": {
     "end_time": "2024-12-02T13:29:20.260232Z",
     "start_time": "2024-12-02T13:29:20.252258Z"
    }
   },
   "cell_type": "code",
   "source": [
    "os.makedirs('models', exist_ok=True)\n",
    "joblib.dump(model, 'models/sentiment_model.pkl')\n",
    "print(\"Model saved in 'models/sentiment_model.pkl'\")\n",
    "\n"
   ],
   "id": "2246fd097f4fb5d",
   "outputs": [
    {
     "name": "stdout",
     "output_type": "stream",
     "text": [
      "Model saved in 'models/sentiment_model.pkl'\n"
     ]
    }
   ],
   "execution_count": 33
  },
  {
   "metadata": {
    "ExecuteTime": {
     "end_time": "2024-12-02T13:29:39.919547Z",
     "start_time": "2024-12-02T13:29:39.901656Z"
    }
   },
   "cell_type": "code",
   "source": [
    "model = joblib.load('models/sentiment_model.pkl')\n",
    "model"
   ],
   "id": "c86daef0aa4ca9f8",
   "outputs": [
    {
     "data": {
      "text/plain": [
       "LogisticRegression(max_iter=1000)"
      ],
      "text/html": [
       "<style>#sk-container-id-2 {\n",
       "  /* Definition of color scheme common for light and dark mode */\n",
       "  --sklearn-color-text: black;\n",
       "  --sklearn-color-line: gray;\n",
       "  /* Definition of color scheme for unfitted estimators */\n",
       "  --sklearn-color-unfitted-level-0: #fff5e6;\n",
       "  --sklearn-color-unfitted-level-1: #f6e4d2;\n",
       "  --sklearn-color-unfitted-level-2: #ffe0b3;\n",
       "  --sklearn-color-unfitted-level-3: chocolate;\n",
       "  /* Definition of color scheme for fitted estimators */\n",
       "  --sklearn-color-fitted-level-0: #f0f8ff;\n",
       "  --sklearn-color-fitted-level-1: #d4ebff;\n",
       "  --sklearn-color-fitted-level-2: #b3dbfd;\n",
       "  --sklearn-color-fitted-level-3: cornflowerblue;\n",
       "\n",
       "  /* Specific color for light theme */\n",
       "  --sklearn-color-text-on-default-background: var(--sg-text-color, var(--theme-code-foreground, var(--jp-content-font-color1, black)));\n",
       "  --sklearn-color-background: var(--sg-background-color, var(--theme-background, var(--jp-layout-color0, white)));\n",
       "  --sklearn-color-border-box: var(--sg-text-color, var(--theme-code-foreground, var(--jp-content-font-color1, black)));\n",
       "  --sklearn-color-icon: #696969;\n",
       "\n",
       "  @media (prefers-color-scheme: dark) {\n",
       "    /* Redefinition of color scheme for dark theme */\n",
       "    --sklearn-color-text-on-default-background: var(--sg-text-color, var(--theme-code-foreground, var(--jp-content-font-color1, white)));\n",
       "    --sklearn-color-background: var(--sg-background-color, var(--theme-background, var(--jp-layout-color0, #111)));\n",
       "    --sklearn-color-border-box: var(--sg-text-color, var(--theme-code-foreground, var(--jp-content-font-color1, white)));\n",
       "    --sklearn-color-icon: #878787;\n",
       "  }\n",
       "}\n",
       "\n",
       "#sk-container-id-2 {\n",
       "  color: var(--sklearn-color-text);\n",
       "}\n",
       "\n",
       "#sk-container-id-2 pre {\n",
       "  padding: 0;\n",
       "}\n",
       "\n",
       "#sk-container-id-2 input.sk-hidden--visually {\n",
       "  border: 0;\n",
       "  clip: rect(1px 1px 1px 1px);\n",
       "  clip: rect(1px, 1px, 1px, 1px);\n",
       "  height: 1px;\n",
       "  margin: -1px;\n",
       "  overflow: hidden;\n",
       "  padding: 0;\n",
       "  position: absolute;\n",
       "  width: 1px;\n",
       "}\n",
       "\n",
       "#sk-container-id-2 div.sk-dashed-wrapped {\n",
       "  border: 1px dashed var(--sklearn-color-line);\n",
       "  margin: 0 0.4em 0.5em 0.4em;\n",
       "  box-sizing: border-box;\n",
       "  padding-bottom: 0.4em;\n",
       "  background-color: var(--sklearn-color-background);\n",
       "}\n",
       "\n",
       "#sk-container-id-2 div.sk-container {\n",
       "  /* jupyter's `normalize.less` sets `[hidden] { display: none; }`\n",
       "     but bootstrap.min.css set `[hidden] { display: none !important; }`\n",
       "     so we also need the `!important` here to be able to override the\n",
       "     default hidden behavior on the sphinx rendered scikit-learn.org.\n",
       "     See: https://github.com/scikit-learn/scikit-learn/issues/21755 */\n",
       "  display: inline-block !important;\n",
       "  position: relative;\n",
       "}\n",
       "\n",
       "#sk-container-id-2 div.sk-text-repr-fallback {\n",
       "  display: none;\n",
       "}\n",
       "\n",
       "div.sk-parallel-item,\n",
       "div.sk-serial,\n",
       "div.sk-item {\n",
       "  /* draw centered vertical line to link estimators */\n",
       "  background-image: linear-gradient(var(--sklearn-color-text-on-default-background), var(--sklearn-color-text-on-default-background));\n",
       "  background-size: 2px 100%;\n",
       "  background-repeat: no-repeat;\n",
       "  background-position: center center;\n",
       "}\n",
       "\n",
       "/* Parallel-specific style estimator block */\n",
       "\n",
       "#sk-container-id-2 div.sk-parallel-item::after {\n",
       "  content: \"\";\n",
       "  width: 100%;\n",
       "  border-bottom: 2px solid var(--sklearn-color-text-on-default-background);\n",
       "  flex-grow: 1;\n",
       "}\n",
       "\n",
       "#sk-container-id-2 div.sk-parallel {\n",
       "  display: flex;\n",
       "  align-items: stretch;\n",
       "  justify-content: center;\n",
       "  background-color: var(--sklearn-color-background);\n",
       "  position: relative;\n",
       "}\n",
       "\n",
       "#sk-container-id-2 div.sk-parallel-item {\n",
       "  display: flex;\n",
       "  flex-direction: column;\n",
       "}\n",
       "\n",
       "#sk-container-id-2 div.sk-parallel-item:first-child::after {\n",
       "  align-self: flex-end;\n",
       "  width: 50%;\n",
       "}\n",
       "\n",
       "#sk-container-id-2 div.sk-parallel-item:last-child::after {\n",
       "  align-self: flex-start;\n",
       "  width: 50%;\n",
       "}\n",
       "\n",
       "#sk-container-id-2 div.sk-parallel-item:only-child::after {\n",
       "  width: 0;\n",
       "}\n",
       "\n",
       "/* Serial-specific style estimator block */\n",
       "\n",
       "#sk-container-id-2 div.sk-serial {\n",
       "  display: flex;\n",
       "  flex-direction: column;\n",
       "  align-items: center;\n",
       "  background-color: var(--sklearn-color-background);\n",
       "  padding-right: 1em;\n",
       "  padding-left: 1em;\n",
       "}\n",
       "\n",
       "\n",
       "/* Toggleable style: style used for estimator/Pipeline/ColumnTransformer box that is\n",
       "clickable and can be expanded/collapsed.\n",
       "- Pipeline and ColumnTransformer use this feature and define the default style\n",
       "- Estimators will overwrite some part of the style using the `sk-estimator` class\n",
       "*/\n",
       "\n",
       "/* Pipeline and ColumnTransformer style (default) */\n",
       "\n",
       "#sk-container-id-2 div.sk-toggleable {\n",
       "  /* Default theme specific background. It is overwritten whether we have a\n",
       "  specific estimator or a Pipeline/ColumnTransformer */\n",
       "  background-color: var(--sklearn-color-background);\n",
       "}\n",
       "\n",
       "/* Toggleable label */\n",
       "#sk-container-id-2 label.sk-toggleable__label {\n",
       "  cursor: pointer;\n",
       "  display: block;\n",
       "  width: 100%;\n",
       "  margin-bottom: 0;\n",
       "  padding: 0.5em;\n",
       "  box-sizing: border-box;\n",
       "  text-align: center;\n",
       "}\n",
       "\n",
       "#sk-container-id-2 label.sk-toggleable__label-arrow:before {\n",
       "  /* Arrow on the left of the label */\n",
       "  content: \"▸\";\n",
       "  float: left;\n",
       "  margin-right: 0.25em;\n",
       "  color: var(--sklearn-color-icon);\n",
       "}\n",
       "\n",
       "#sk-container-id-2 label.sk-toggleable__label-arrow:hover:before {\n",
       "  color: var(--sklearn-color-text);\n",
       "}\n",
       "\n",
       "/* Toggleable content - dropdown */\n",
       "\n",
       "#sk-container-id-2 div.sk-toggleable__content {\n",
       "  max-height: 0;\n",
       "  max-width: 0;\n",
       "  overflow: hidden;\n",
       "  text-align: left;\n",
       "  /* unfitted */\n",
       "  background-color: var(--sklearn-color-unfitted-level-0);\n",
       "}\n",
       "\n",
       "#sk-container-id-2 div.sk-toggleable__content.fitted {\n",
       "  /* fitted */\n",
       "  background-color: var(--sklearn-color-fitted-level-0);\n",
       "}\n",
       "\n",
       "#sk-container-id-2 div.sk-toggleable__content pre {\n",
       "  margin: 0.2em;\n",
       "  border-radius: 0.25em;\n",
       "  color: var(--sklearn-color-text);\n",
       "  /* unfitted */\n",
       "  background-color: var(--sklearn-color-unfitted-level-0);\n",
       "}\n",
       "\n",
       "#sk-container-id-2 div.sk-toggleable__content.fitted pre {\n",
       "  /* unfitted */\n",
       "  background-color: var(--sklearn-color-fitted-level-0);\n",
       "}\n",
       "\n",
       "#sk-container-id-2 input.sk-toggleable__control:checked~div.sk-toggleable__content {\n",
       "  /* Expand drop-down */\n",
       "  max-height: 200px;\n",
       "  max-width: 100%;\n",
       "  overflow: auto;\n",
       "}\n",
       "\n",
       "#sk-container-id-2 input.sk-toggleable__control:checked~label.sk-toggleable__label-arrow:before {\n",
       "  content: \"▾\";\n",
       "}\n",
       "\n",
       "/* Pipeline/ColumnTransformer-specific style */\n",
       "\n",
       "#sk-container-id-2 div.sk-label input.sk-toggleable__control:checked~label.sk-toggleable__label {\n",
       "  color: var(--sklearn-color-text);\n",
       "  background-color: var(--sklearn-color-unfitted-level-2);\n",
       "}\n",
       "\n",
       "#sk-container-id-2 div.sk-label.fitted input.sk-toggleable__control:checked~label.sk-toggleable__label {\n",
       "  background-color: var(--sklearn-color-fitted-level-2);\n",
       "}\n",
       "\n",
       "/* Estimator-specific style */\n",
       "\n",
       "/* Colorize estimator box */\n",
       "#sk-container-id-2 div.sk-estimator input.sk-toggleable__control:checked~label.sk-toggleable__label {\n",
       "  /* unfitted */\n",
       "  background-color: var(--sklearn-color-unfitted-level-2);\n",
       "}\n",
       "\n",
       "#sk-container-id-2 div.sk-estimator.fitted input.sk-toggleable__control:checked~label.sk-toggleable__label {\n",
       "  /* fitted */\n",
       "  background-color: var(--sklearn-color-fitted-level-2);\n",
       "}\n",
       "\n",
       "#sk-container-id-2 div.sk-label label.sk-toggleable__label,\n",
       "#sk-container-id-2 div.sk-label label {\n",
       "  /* The background is the default theme color */\n",
       "  color: var(--sklearn-color-text-on-default-background);\n",
       "}\n",
       "\n",
       "/* On hover, darken the color of the background */\n",
       "#sk-container-id-2 div.sk-label:hover label.sk-toggleable__label {\n",
       "  color: var(--sklearn-color-text);\n",
       "  background-color: var(--sklearn-color-unfitted-level-2);\n",
       "}\n",
       "\n",
       "/* Label box, darken color on hover, fitted */\n",
       "#sk-container-id-2 div.sk-label.fitted:hover label.sk-toggleable__label.fitted {\n",
       "  color: var(--sklearn-color-text);\n",
       "  background-color: var(--sklearn-color-fitted-level-2);\n",
       "}\n",
       "\n",
       "/* Estimator label */\n",
       "\n",
       "#sk-container-id-2 div.sk-label label {\n",
       "  font-family: monospace;\n",
       "  font-weight: bold;\n",
       "  display: inline-block;\n",
       "  line-height: 1.2em;\n",
       "}\n",
       "\n",
       "#sk-container-id-2 div.sk-label-container {\n",
       "  text-align: center;\n",
       "}\n",
       "\n",
       "/* Estimator-specific */\n",
       "#sk-container-id-2 div.sk-estimator {\n",
       "  font-family: monospace;\n",
       "  border: 1px dotted var(--sklearn-color-border-box);\n",
       "  border-radius: 0.25em;\n",
       "  box-sizing: border-box;\n",
       "  margin-bottom: 0.5em;\n",
       "  /* unfitted */\n",
       "  background-color: var(--sklearn-color-unfitted-level-0);\n",
       "}\n",
       "\n",
       "#sk-container-id-2 div.sk-estimator.fitted {\n",
       "  /* fitted */\n",
       "  background-color: var(--sklearn-color-fitted-level-0);\n",
       "}\n",
       "\n",
       "/* on hover */\n",
       "#sk-container-id-2 div.sk-estimator:hover {\n",
       "  /* unfitted */\n",
       "  background-color: var(--sklearn-color-unfitted-level-2);\n",
       "}\n",
       "\n",
       "#sk-container-id-2 div.sk-estimator.fitted:hover {\n",
       "  /* fitted */\n",
       "  background-color: var(--sklearn-color-fitted-level-2);\n",
       "}\n",
       "\n",
       "/* Specification for estimator info (e.g. \"i\" and \"?\") */\n",
       "\n",
       "/* Common style for \"i\" and \"?\" */\n",
       "\n",
       ".sk-estimator-doc-link,\n",
       "a:link.sk-estimator-doc-link,\n",
       "a:visited.sk-estimator-doc-link {\n",
       "  float: right;\n",
       "  font-size: smaller;\n",
       "  line-height: 1em;\n",
       "  font-family: monospace;\n",
       "  background-color: var(--sklearn-color-background);\n",
       "  border-radius: 1em;\n",
       "  height: 1em;\n",
       "  width: 1em;\n",
       "  text-decoration: none !important;\n",
       "  margin-left: 1ex;\n",
       "  /* unfitted */\n",
       "  border: var(--sklearn-color-unfitted-level-1) 1pt solid;\n",
       "  color: var(--sklearn-color-unfitted-level-1);\n",
       "}\n",
       "\n",
       ".sk-estimator-doc-link.fitted,\n",
       "a:link.sk-estimator-doc-link.fitted,\n",
       "a:visited.sk-estimator-doc-link.fitted {\n",
       "  /* fitted */\n",
       "  border: var(--sklearn-color-fitted-level-1) 1pt solid;\n",
       "  color: var(--sklearn-color-fitted-level-1);\n",
       "}\n",
       "\n",
       "/* On hover */\n",
       "div.sk-estimator:hover .sk-estimator-doc-link:hover,\n",
       ".sk-estimator-doc-link:hover,\n",
       "div.sk-label-container:hover .sk-estimator-doc-link:hover,\n",
       ".sk-estimator-doc-link:hover {\n",
       "  /* unfitted */\n",
       "  background-color: var(--sklearn-color-unfitted-level-3);\n",
       "  color: var(--sklearn-color-background);\n",
       "  text-decoration: none;\n",
       "}\n",
       "\n",
       "div.sk-estimator.fitted:hover .sk-estimator-doc-link.fitted:hover,\n",
       ".sk-estimator-doc-link.fitted:hover,\n",
       "div.sk-label-container:hover .sk-estimator-doc-link.fitted:hover,\n",
       ".sk-estimator-doc-link.fitted:hover {\n",
       "  /* fitted */\n",
       "  background-color: var(--sklearn-color-fitted-level-3);\n",
       "  color: var(--sklearn-color-background);\n",
       "  text-decoration: none;\n",
       "}\n",
       "\n",
       "/* Span, style for the box shown on hovering the info icon */\n",
       ".sk-estimator-doc-link span {\n",
       "  display: none;\n",
       "  z-index: 9999;\n",
       "  position: relative;\n",
       "  font-weight: normal;\n",
       "  right: .2ex;\n",
       "  padding: .5ex;\n",
       "  margin: .5ex;\n",
       "  width: min-content;\n",
       "  min-width: 20ex;\n",
       "  max-width: 50ex;\n",
       "  color: var(--sklearn-color-text);\n",
       "  box-shadow: 2pt 2pt 4pt #999;\n",
       "  /* unfitted */\n",
       "  background: var(--sklearn-color-unfitted-level-0);\n",
       "  border: .5pt solid var(--sklearn-color-unfitted-level-3);\n",
       "}\n",
       "\n",
       ".sk-estimator-doc-link.fitted span {\n",
       "  /* fitted */\n",
       "  background: var(--sklearn-color-fitted-level-0);\n",
       "  border: var(--sklearn-color-fitted-level-3);\n",
       "}\n",
       "\n",
       ".sk-estimator-doc-link:hover span {\n",
       "  display: block;\n",
       "}\n",
       "\n",
       "/* \"?\"-specific style due to the `<a>` HTML tag */\n",
       "\n",
       "#sk-container-id-2 a.estimator_doc_link {\n",
       "  float: right;\n",
       "  font-size: 1rem;\n",
       "  line-height: 1em;\n",
       "  font-family: monospace;\n",
       "  background-color: var(--sklearn-color-background);\n",
       "  border-radius: 1rem;\n",
       "  height: 1rem;\n",
       "  width: 1rem;\n",
       "  text-decoration: none;\n",
       "  /* unfitted */\n",
       "  color: var(--sklearn-color-unfitted-level-1);\n",
       "  border: var(--sklearn-color-unfitted-level-1) 1pt solid;\n",
       "}\n",
       "\n",
       "#sk-container-id-2 a.estimator_doc_link.fitted {\n",
       "  /* fitted */\n",
       "  border: var(--sklearn-color-fitted-level-1) 1pt solid;\n",
       "  color: var(--sklearn-color-fitted-level-1);\n",
       "}\n",
       "\n",
       "/* On hover */\n",
       "#sk-container-id-2 a.estimator_doc_link:hover {\n",
       "  /* unfitted */\n",
       "  background-color: var(--sklearn-color-unfitted-level-3);\n",
       "  color: var(--sklearn-color-background);\n",
       "  text-decoration: none;\n",
       "}\n",
       "\n",
       "#sk-container-id-2 a.estimator_doc_link.fitted:hover {\n",
       "  /* fitted */\n",
       "  background-color: var(--sklearn-color-fitted-level-3);\n",
       "}\n",
       "</style><div id=\"sk-container-id-2\" class=\"sk-top-container\"><div class=\"sk-text-repr-fallback\"><pre>LogisticRegression(max_iter=1000)</pre><b>In a Jupyter environment, please rerun this cell to show the HTML representation or trust the notebook. <br />On GitHub, the HTML representation is unable to render, please try loading this page with nbviewer.org.</b></div><div class=\"sk-container\" hidden><div class=\"sk-item\"><div class=\"sk-estimator fitted sk-toggleable\"><input class=\"sk-toggleable__control sk-hidden--visually\" id=\"sk-estimator-id-2\" type=\"checkbox\" checked><label for=\"sk-estimator-id-2\" class=\"sk-toggleable__label fitted sk-toggleable__label-arrow fitted\">&nbsp;&nbsp;LogisticRegression<a class=\"sk-estimator-doc-link fitted\" rel=\"noreferrer\" target=\"_blank\" href=\"https://scikit-learn.org/1.5/modules/generated/sklearn.linear_model.LogisticRegression.html\">?<span>Documentation for LogisticRegression</span></a><span class=\"sk-estimator-doc-link fitted\">i<span>Fitted</span></span></label><div class=\"sk-toggleable__content fitted\"><pre>LogisticRegression(max_iter=1000)</pre></div> </div></div></div></div>"
      ]
     },
     "execution_count": 35,
     "metadata": {},
     "output_type": "execute_result"
    }
   ],
   "execution_count": 35
  },
  {
   "metadata": {},
   "cell_type": "markdown",
   "source": [
    "# Testing the Model with New and unlabeled Data\n",
    "We will test the sentiment analysis model with new chat messages that are not labeled with sentiment. We will use the TF-IDF vectorizer to transform the new chat messages into numerical features and predict the sentiment of the messages using the trained model. This will help us to classify the sentiment of new chat messages as positive, negative, or neutral."
   ],
   "id": "eb516fd7d13cc68c"
  },
  {
   "metadata": {
    "ExecuteTime": {
     "end_time": "2024-12-02T12:43:32.478937Z",
     "start_time": "2024-12-02T12:43:32.470714Z"
    }
   },
   "cell_type": "code",
   "source": [
    "# Example new data\n",
    "new_chat_messages = [\n",
    "    \"I love this feature!\",\n",
    "    \"This is the worst experience ever.\",\n",
    "    \"Nothing will happen.\",\n",
    "    \"i have no mentor\",\n",
    "    \"no sound\"\n",
    "]\n",
    "\n",
    "\n",
    "new_data_tfidf = tfidf.transform(new_chat_messages)\n",
    "\n",
    "\n",
    "predictions = model.predict(new_data_tfidf)\n",
    "\n",
    "sentiment_labels = label_encoder.inverse_transform(predictions)\n",
    "\n",
    "\n",
    "for message, sentiment in zip(new_chat_messages, sentiment_labels):\n",
    "    print(f\"Message: {message}\\nPredicted Sentiment: {sentiment}\\n\")\n"
   ],
   "id": "d0e9629b87a1a56b",
   "outputs": [
    {
     "name": "stdout",
     "output_type": "stream",
     "text": [
      "Message: I love this feature!\n",
      "Predicted Sentiment: positive\n",
      "\n",
      "Message: This is the worst experience ever.\n",
      "Predicted Sentiment: negative\n",
      "\n",
      "Message: Nothing will happen.\n",
      "Predicted Sentiment: neutral\n",
      "\n",
      "Message: i have no mentor\n",
      "Predicted Sentiment: negative\n",
      "\n",
      "Message: no sound\n",
      "Predicted Sentiment: negative\n",
      "\n"
     ]
    }
   ],
   "execution_count": 50
  }
 ],
 "metadata": {
  "kernelspec": {
   "display_name": "Python 3",
   "language": "python",
   "name": "python3"
  },
  "language_info": {
   "codemirror_mode": {
    "name": "ipython",
    "version": 2
   },
   "file_extension": ".py",
   "mimetype": "text/x-python",
   "name": "python",
   "nbconvert_exporter": "python",
   "pygments_lexer": "ipython2",
   "version": "2.7.6"
  }
 },
 "nbformat": 4,
 "nbformat_minor": 5
}
