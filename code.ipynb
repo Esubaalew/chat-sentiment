{
 "cells": [
  {
   "cell_type": "code",
   "id": "initial_id",
   "metadata": {
    "collapsed": true,
    "ExecuteTime": {
     "end_time": "2024-12-02T07:35:51.078338Z",
     "start_time": "2024-12-02T07:35:40.804912Z"
    }
   },
   "source": [
    "import os\n",
    "import json\n",
    "import pandas as pd\n",
    "import warnings\n",
    "warnings.filterwarnings('ignore', category=UserWarning, module='seaborn')\n",
    "warnings.filterwarnings('ignore', category=FutureWarning, module='seaborn')\n",
    "import warnings\n",
    "warnings.filterwarnings('ignore', category=UserWarning, module='matplotlib')\n",
    "warnings.filterwarnings('ignore', category=FutureWarning, module='matplotlib')\n",
    "\n",
    "\n",
    "# Load JSON file\n",
    "data_path = os.path.join(\"data\", \"bot.json\") \n",
    "with open(data_path, \"r\", encoding=\"utf-8\") as file:\n",
    "    chat_data = json.load(file)\n"
   ],
   "outputs": [],
   "execution_count": 1
  },
  {
   "metadata": {
    "ExecuteTime": {
     "end_time": "2024-12-02T07:36:03.768136Z",
     "start_time": "2024-12-02T07:36:03.760422Z"
    }
   },
   "cell_type": "code",
   "source": [
    "import matplotlib.pyplot as plt\n",
    "\n",
    "plt.rcParams['font.family'] = 'Arial'\n"
   ],
   "id": "6e5e8907316ca8e",
   "outputs": [],
   "execution_count": 4
  },
  {
   "metadata": {
    "ExecuteTime": {
     "end_time": "2024-12-02T07:36:12.649430Z",
     "start_time": "2024-12-02T07:36:07.437969Z"
    }
   },
   "cell_type": "code",
   "source": [
    "# Convert JSON to DataFrame\n",
    "df = pd.DataFrame(chat_data['messages'])\n",
    "df.tail()"
   ],
   "id": "720d4eb80ae6c188",
   "outputs": [
    {
     "data": {
      "text/plain": [
       "            id     type                 date date_unixtime actor actor_id  \\\n",
       "474259  945379  message  2024-12-01T17:03:44    1733061824   NaN      NaN   \n",
       "474260  945381  message  2024-12-01T17:07:05    1733062025   NaN      NaN   \n",
       "474261  945382  message  2024-12-01T17:10:09    1733062209   NaN      NaN   \n",
       "474262  945385  message  2024-12-01T17:42:28    1733064148   NaN      NaN   \n",
       "474263  945386  message  2024-12-01T17:43:00    1733064180   NaN      NaN   \n",
       "\n",
       "       action title                                               text  \\\n",
       "474259    NaN   NaN  [{'type': 'mention', 'text': '@BotFather'},  >...   \n",
       "474260    NaN   NaN                              Thanks for your help)   \n",
       "474261    NaN   NaN  Can i edit message with media, and delete medi...   \n",
       "474262    NaN   NaN                                 Why you ignore me?   \n",
       "474263    NaN   NaN  Because your message doesn't make sense. What ...   \n",
       "\n",
       "                                            text_entities  ...  \\\n",
       "474259  [{'type': 'mention', 'text': '@BotFather'}, {'...  ...   \n",
       "474260  [{'type': 'plain', 'text': 'Thanks for your he...  ...   \n",
       "474261  [{'type': 'plain', 'text': 'Can i edit message...  ...   \n",
       "474262  [{'type': 'plain', 'text': 'Why you ignore me?'}]  ...   \n",
       "474263  [{'type': 'plain', 'text': 'Because your messa...  ...   \n",
       "\n",
       "       game_message_id score saved_from location_information  \\\n",
       "474259             NaN   NaN        NaN                  NaN   \n",
       "474260             NaN   NaN        NaN                  NaN   \n",
       "474261             NaN   NaN        NaN                  NaN   \n",
       "474262             NaN   NaN        NaN                  NaN   \n",
       "474263             NaN   NaN        NaN                  NaN   \n",
       "\n",
       "       invoice_information place_name  address  reply_to_peer_id  \\\n",
       "474259                 NaN        NaN      NaN               NaN   \n",
       "474260                 NaN        NaN      NaN               NaN   \n",
       "474261                 NaN        NaN      NaN               NaN   \n",
       "474262                 NaN        NaN      NaN               NaN   \n",
       "474263                 NaN        NaN      NaN               NaN   \n",
       "\n",
       "       giveaway_information  boosts  \n",
       "474259                  NaN     NaN  \n",
       "474260                  NaN     NaN  \n",
       "474261                  NaN     NaN  \n",
       "474262                  NaN     NaN  \n",
       "474263                  NaN     NaN  \n",
       "\n",
       "[5 rows x 46 columns]"
      ],
      "text/html": [
       "<div>\n",
       "<style scoped>\n",
       "    .dataframe tbody tr th:only-of-type {\n",
       "        vertical-align: middle;\n",
       "    }\n",
       "\n",
       "    .dataframe tbody tr th {\n",
       "        vertical-align: top;\n",
       "    }\n",
       "\n",
       "    .dataframe thead th {\n",
       "        text-align: right;\n",
       "    }\n",
       "</style>\n",
       "<table border=\"1\" class=\"dataframe\">\n",
       "  <thead>\n",
       "    <tr style=\"text-align: right;\">\n",
       "      <th></th>\n",
       "      <th>id</th>\n",
       "      <th>type</th>\n",
       "      <th>date</th>\n",
       "      <th>date_unixtime</th>\n",
       "      <th>actor</th>\n",
       "      <th>actor_id</th>\n",
       "      <th>action</th>\n",
       "      <th>title</th>\n",
       "      <th>text</th>\n",
       "      <th>text_entities</th>\n",
       "      <th>...</th>\n",
       "      <th>game_message_id</th>\n",
       "      <th>score</th>\n",
       "      <th>saved_from</th>\n",
       "      <th>location_information</th>\n",
       "      <th>invoice_information</th>\n",
       "      <th>place_name</th>\n",
       "      <th>address</th>\n",
       "      <th>reply_to_peer_id</th>\n",
       "      <th>giveaway_information</th>\n",
       "      <th>boosts</th>\n",
       "    </tr>\n",
       "  </thead>\n",
       "  <tbody>\n",
       "    <tr>\n",
       "      <th>474259</th>\n",
       "      <td>945379</td>\n",
       "      <td>message</td>\n",
       "      <td>2024-12-01T17:03:44</td>\n",
       "      <td>1733061824</td>\n",
       "      <td>NaN</td>\n",
       "      <td>NaN</td>\n",
       "      <td>NaN</td>\n",
       "      <td>NaN</td>\n",
       "      <td>[{'type': 'mention', 'text': '@BotFather'},  &gt;...</td>\n",
       "      <td>[{'type': 'mention', 'text': '@BotFather'}, {'...</td>\n",
       "      <td>...</td>\n",
       "      <td>NaN</td>\n",
       "      <td>NaN</td>\n",
       "      <td>NaN</td>\n",
       "      <td>NaN</td>\n",
       "      <td>NaN</td>\n",
       "      <td>NaN</td>\n",
       "      <td>NaN</td>\n",
       "      <td>NaN</td>\n",
       "      <td>NaN</td>\n",
       "      <td>NaN</td>\n",
       "    </tr>\n",
       "    <tr>\n",
       "      <th>474260</th>\n",
       "      <td>945381</td>\n",
       "      <td>message</td>\n",
       "      <td>2024-12-01T17:07:05</td>\n",
       "      <td>1733062025</td>\n",
       "      <td>NaN</td>\n",
       "      <td>NaN</td>\n",
       "      <td>NaN</td>\n",
       "      <td>NaN</td>\n",
       "      <td>Thanks for your help)</td>\n",
       "      <td>[{'type': 'plain', 'text': 'Thanks for your he...</td>\n",
       "      <td>...</td>\n",
       "      <td>NaN</td>\n",
       "      <td>NaN</td>\n",
       "      <td>NaN</td>\n",
       "      <td>NaN</td>\n",
       "      <td>NaN</td>\n",
       "      <td>NaN</td>\n",
       "      <td>NaN</td>\n",
       "      <td>NaN</td>\n",
       "      <td>NaN</td>\n",
       "      <td>NaN</td>\n",
       "    </tr>\n",
       "    <tr>\n",
       "      <th>474261</th>\n",
       "      <td>945382</td>\n",
       "      <td>message</td>\n",
       "      <td>2024-12-01T17:10:09</td>\n",
       "      <td>1733062209</td>\n",
       "      <td>NaN</td>\n",
       "      <td>NaN</td>\n",
       "      <td>NaN</td>\n",
       "      <td>NaN</td>\n",
       "      <td>Can i edit message with media, and delete medi...</td>\n",
       "      <td>[{'type': 'plain', 'text': 'Can i edit message...</td>\n",
       "      <td>...</td>\n",
       "      <td>NaN</td>\n",
       "      <td>NaN</td>\n",
       "      <td>NaN</td>\n",
       "      <td>NaN</td>\n",
       "      <td>NaN</td>\n",
       "      <td>NaN</td>\n",
       "      <td>NaN</td>\n",
       "      <td>NaN</td>\n",
       "      <td>NaN</td>\n",
       "      <td>NaN</td>\n",
       "    </tr>\n",
       "    <tr>\n",
       "      <th>474262</th>\n",
       "      <td>945385</td>\n",
       "      <td>message</td>\n",
       "      <td>2024-12-01T17:42:28</td>\n",
       "      <td>1733064148</td>\n",
       "      <td>NaN</td>\n",
       "      <td>NaN</td>\n",
       "      <td>NaN</td>\n",
       "      <td>NaN</td>\n",
       "      <td>Why you ignore me?</td>\n",
       "      <td>[{'type': 'plain', 'text': 'Why you ignore me?'}]</td>\n",
       "      <td>...</td>\n",
       "      <td>NaN</td>\n",
       "      <td>NaN</td>\n",
       "      <td>NaN</td>\n",
       "      <td>NaN</td>\n",
       "      <td>NaN</td>\n",
       "      <td>NaN</td>\n",
       "      <td>NaN</td>\n",
       "      <td>NaN</td>\n",
       "      <td>NaN</td>\n",
       "      <td>NaN</td>\n",
       "    </tr>\n",
       "    <tr>\n",
       "      <th>474263</th>\n",
       "      <td>945386</td>\n",
       "      <td>message</td>\n",
       "      <td>2024-12-01T17:43:00</td>\n",
       "      <td>1733064180</td>\n",
       "      <td>NaN</td>\n",
       "      <td>NaN</td>\n",
       "      <td>NaN</td>\n",
       "      <td>NaN</td>\n",
       "      <td>Because your message doesn't make sense. What ...</td>\n",
       "      <td>[{'type': 'plain', 'text': 'Because your messa...</td>\n",
       "      <td>...</td>\n",
       "      <td>NaN</td>\n",
       "      <td>NaN</td>\n",
       "      <td>NaN</td>\n",
       "      <td>NaN</td>\n",
       "      <td>NaN</td>\n",
       "      <td>NaN</td>\n",
       "      <td>NaN</td>\n",
       "      <td>NaN</td>\n",
       "      <td>NaN</td>\n",
       "      <td>NaN</td>\n",
       "    </tr>\n",
       "  </tbody>\n",
       "</table>\n",
       "<p>5 rows × 46 columns</p>\n",
       "</div>"
      ]
     },
     "execution_count": 5,
     "metadata": {},
     "output_type": "execute_result"
    }
   ],
   "execution_count": 5
  },
  {
   "metadata": {
    "ExecuteTime": {
     "end_time": "2024-12-02T07:36:44.572184Z",
     "start_time": "2024-12-02T07:36:37.784806Z"
    }
   },
   "cell_type": "code",
   "source": [
    "import seaborn as sns\n",
    "\n",
    "# Summarize user data\n",
    "user_counts = df['from'].value_counts()\n",
    "top_users = user_counts[:10]  # Top 10 users\n",
    "message_ranges = user_counts.value_counts(bins=10).sort_index()  # Group users into ranges\n",
    "user_counts = user_counts.apply(lambda x: ''.join(char for char in str(x) if char.isalnum()))\n",
    "# Display summaries\n",
    "print(\"Top 10 Users by Message Count:\")\n",
    "print(top_users)\n",
    "print(\"\\nUser Message Ranges:\")\n",
    "print(message_ranges)\n",
    "\n",
    "# Bar Chart for Top Users\n",
    "plt.figure(figsize=(10, 6))\n",
    "top_users.plot(kind='bar', color='teal')\n",
    "plt.title(\"Top 10 Users by Number of Messages\")\n",
    "plt.xlabel(\"Users\")\n",
    "plt.ylabel(\"Number of Messages\")\n",
    "plt.xticks(rotation=45, fontsize=8)\n",
    "plt.grid(axis='y', linestyle='--', alpha=0.7)\n",
    "plt.tight_layout()\n",
    "plt.show()\n",
    "\n",
    "# Histogram for Message Distribution\n",
    "plt.figure(figsize=(10, 6))\n",
    "sns.histplot(user_counts, bins=50, kde=True, color='purple')\n",
    "plt.title(\"Distribution of Messages per User\")\n",
    "plt.xlabel(\"Number of Messages\")\n",
    "plt.ylabel(\"Frequency\")\n",
    "plt.grid(axis='y', linestyle='--', alpha=0.7)\n",
    "plt.tight_layout()\n",
    "plt.show()\n"
   ],
   "id": "7b2a6936d9c290dd",
   "outputs": [
    {
     "name": "stdout",
     "output_type": "stream",
     "text": [
      "Top 10 Users by Message Count:\n",
      "from\n",
      "dot                      30299\n",
      "Яico X                   16857\n",
      "Thorbijoern ᚛ᚃᚒᚉ ᚅᚎᚄ᚜    13046\n",
      "Para                      8719\n",
      "s0m31                     7988\n",
      "Watzon 🍉🇵🇸                7163\n",
      "Poolitzer X               6552\n",
      "Lord unreal4u 𝕏 (NL)      3813\n",
      "puppy0cam                 3242\n",
      "Sköll                     3032\n",
      "Name: count, dtype: int64\n",
      "\n",
      "User Message Ranges:\n",
      "(-29.299, 3030.8]     22152\n",
      "(3030.8, 6060.6]          3\n",
      "(6060.6, 9090.4]          4\n",
      "(9090.4, 12120.2]         0\n",
      "(12120.2, 15150.0]        1\n",
      "(15150.0, 18179.8]        1\n",
      "(18179.8, 21209.6]        0\n",
      "(21209.6, 24239.4]        0\n",
      "(24239.4, 27269.2]        0\n",
      "(27269.2, 30299.0]        1\n",
      "Name: count, dtype: int64\n"
     ]
    },
    {
     "name": "stderr",
     "output_type": "stream",
     "text": [
      "/tmp/ipykernel_18172/619537322.py:22: UserWarning: Glyph 5787 (\\N{OGHAM FEATHER MARK}) missing from font(s) Arial.\n",
      "  plt.tight_layout()\n",
      "/tmp/ipykernel_18172/619537322.py:22: UserWarning: Glyph 5763 (\\N{OGHAM LETTER FEARN}) missing from font(s) Arial.\n",
      "  plt.tight_layout()\n",
      "/tmp/ipykernel_18172/619537322.py:22: UserWarning: Glyph 5778 (\\N{OGHAM LETTER UR}) missing from font(s) Arial.\n",
      "  plt.tight_layout()\n",
      "/tmp/ipykernel_18172/619537322.py:22: UserWarning: Glyph 5769 (\\N{OGHAM LETTER COLL}) missing from font(s) Arial.\n",
      "  plt.tight_layout()\n",
      "/tmp/ipykernel_18172/619537322.py:22: UserWarning: Glyph 5765 (\\N{OGHAM LETTER NION}) missing from font(s) Arial.\n",
      "  plt.tight_layout()\n",
      "/tmp/ipykernel_18172/619537322.py:22: UserWarning: Glyph 5774 (\\N{OGHAM LETTER STRAIF}) missing from font(s) Arial.\n",
      "  plt.tight_layout()\n",
      "/tmp/ipykernel_18172/619537322.py:22: UserWarning: Glyph 5764 (\\N{OGHAM LETTER SAIL}) missing from font(s) Arial.\n",
      "  plt.tight_layout()\n",
      "/tmp/ipykernel_18172/619537322.py:22: UserWarning: Glyph 5788 (\\N{OGHAM REVERSED FEATHER MARK}) missing from font(s) Arial.\n",
      "  plt.tight_layout()\n",
      "/tmp/ipykernel_18172/619537322.py:22: UserWarning: Glyph 127817 (\\N{WATERMELON}) missing from font(s) Arial.\n",
      "  plt.tight_layout()\n",
      "/tmp/ipykernel_18172/619537322.py:22: UserWarning: Glyph 127477 (\\N{REGIONAL INDICATOR SYMBOL LETTER P}) missing from font(s) Arial.\n",
      "  plt.tight_layout()\n",
      "/tmp/ipykernel_18172/619537322.py:22: UserWarning: Glyph 127480 (\\N{REGIONAL INDICATOR SYMBOL LETTER S}) missing from font(s) Arial.\n",
      "  plt.tight_layout()\n",
      "/tmp/ipykernel_18172/619537322.py:22: UserWarning: Glyph 120143 (\\N{MATHEMATICAL DOUBLE-STRUCK CAPITAL X}) missing from font(s) Arial.\n",
      "  plt.tight_layout()\n",
      "/home/esube/miniconda3/lib/python3.12/site-packages/IPython/core/pylabtools.py:170: UserWarning: Glyph 5787 (\\N{OGHAM FEATHER MARK}) missing from font(s) Arial.\n",
      "  fig.canvas.print_figure(bytes_io, **kw)\n",
      "/home/esube/miniconda3/lib/python3.12/site-packages/IPython/core/pylabtools.py:170: UserWarning: Glyph 5763 (\\N{OGHAM LETTER FEARN}) missing from font(s) Arial.\n",
      "  fig.canvas.print_figure(bytes_io, **kw)\n",
      "/home/esube/miniconda3/lib/python3.12/site-packages/IPython/core/pylabtools.py:170: UserWarning: Glyph 5778 (\\N{OGHAM LETTER UR}) missing from font(s) Arial.\n",
      "  fig.canvas.print_figure(bytes_io, **kw)\n",
      "/home/esube/miniconda3/lib/python3.12/site-packages/IPython/core/pylabtools.py:170: UserWarning: Glyph 5769 (\\N{OGHAM LETTER COLL}) missing from font(s) Arial.\n",
      "  fig.canvas.print_figure(bytes_io, **kw)\n",
      "/home/esube/miniconda3/lib/python3.12/site-packages/IPython/core/pylabtools.py:170: UserWarning: Glyph 5765 (\\N{OGHAM LETTER NION}) missing from font(s) Arial.\n",
      "  fig.canvas.print_figure(bytes_io, **kw)\n",
      "/home/esube/miniconda3/lib/python3.12/site-packages/IPython/core/pylabtools.py:170: UserWarning: Glyph 5774 (\\N{OGHAM LETTER STRAIF}) missing from font(s) Arial.\n",
      "  fig.canvas.print_figure(bytes_io, **kw)\n",
      "/home/esube/miniconda3/lib/python3.12/site-packages/IPython/core/pylabtools.py:170: UserWarning: Glyph 5764 (\\N{OGHAM LETTER SAIL}) missing from font(s) Arial.\n",
      "  fig.canvas.print_figure(bytes_io, **kw)\n",
      "/home/esube/miniconda3/lib/python3.12/site-packages/IPython/core/pylabtools.py:170: UserWarning: Glyph 5788 (\\N{OGHAM REVERSED FEATHER MARK}) missing from font(s) Arial.\n",
      "  fig.canvas.print_figure(bytes_io, **kw)\n",
      "/home/esube/miniconda3/lib/python3.12/site-packages/IPython/core/pylabtools.py:170: UserWarning: Glyph 127817 (\\N{WATERMELON}) missing from font(s) Arial.\n",
      "  fig.canvas.print_figure(bytes_io, **kw)\n",
      "/home/esube/miniconda3/lib/python3.12/site-packages/IPython/core/pylabtools.py:170: UserWarning: Glyph 127477 (\\N{REGIONAL INDICATOR SYMBOL LETTER P}) missing from font(s) Arial.\n",
      "  fig.canvas.print_figure(bytes_io, **kw)\n",
      "/home/esube/miniconda3/lib/python3.12/site-packages/IPython/core/pylabtools.py:170: UserWarning: Glyph 127480 (\\N{REGIONAL INDICATOR SYMBOL LETTER S}) missing from font(s) Arial.\n",
      "  fig.canvas.print_figure(bytes_io, **kw)\n",
      "/home/esube/miniconda3/lib/python3.12/site-packages/IPython/core/pylabtools.py:170: UserWarning: Glyph 120143 (\\N{MATHEMATICAL DOUBLE-STRUCK CAPITAL X}) missing from font(s) Arial.\n",
      "  fig.canvas.print_figure(bytes_io, **kw)\n"
     ]
    },
    {
     "data": {
      "text/plain": [
       "<Figure size 1000x600 with 1 Axes>"
      ],
      "image/png": "[encoded data removed]"
     },
     "metadata": {},
     "output_type": "display_data"
    },
    {
     "data": {
      "text/plain": [
       "<Figure size 1000x600 with 1 Axes>"
      ],
      "image/png": "[encoded data removed]"
     },
     "metadata": {},
     "output_type": "display_data"
    }
   ],
   "execution_count": 6
  },
  {
   "metadata": {
    "ExecuteTime": {
     "end_time": "2024-12-02T07:38:21.741832Z",
     "start_time": "2024-12-02T07:38:19.713232Z"
    }
   },
   "cell_type": "code",
   "source": [
    "# Check text distribution and trends\n",
    "import matplotlib.pyplot as plt\n",
    "\n",
    "# Text length distribution\n",
    "df['text_length'] = df['text'].str.len()\n",
    "plt.hist(df['text_length'], bins=50)\n",
    "plt.title(\"Text Length Distribution\")\n",
    "plt.xlabel(\"Text Length\")\n",
    "plt.ylabel(\"Frequency\")\n",
    "plt.show()\n",
    "\n",
    "# Message frequency over time\n",
    "df['date'] = pd.to_datetime(df['date'])\n",
    "plt.figure(figsize=(10, 6))\n",
    "df['date'].dt.date.value_counts().sort_index().plot(kind='line')\n",
    "plt.title(\"Messages Over Time\")\n",
    "plt.xlabel(\"Date\")\n",
    "plt.ylabel(\"Number of Messages\")\n",
    "plt.grid()\n",
    "plt.show()\n"
   ],
   "id": "ff734e1f4d449682",
   "outputs": [
    {
     "data": {
      "text/plain": [
       "<Figure size 640x480 with 1 Axes>"
      ],
      "image/png": "[encoded data removed]"
     },
     "metadata": {},
     "output_type": "display_data"
    },
    {
     "data": {
      "text/plain": [
       "<Figure size 1000x600 with 1 Axes>"
      ],
      "image/png": "[encoded data removed]"
     },
     "metadata": {},
     "output_type": "display_data"
    }
   ],
   "execution_count": 7
  },
  {
   "metadata": {
    "ExecuteTime": {
     "end_time": "2024-12-02T07:38:32.365308Z",
     "start_time": "2024-12-02T07:38:26.732378Z"
    }
   },
   "cell_type": "code",
   "source": [
    "# Step 1: Extract the relevant columns (just text)\n",
    "df = pd.DataFrame(chat_data['messages'])\n",
    "df = df[['text']]  # Keep only the text column\n",
    "df.head()"
   ],
   "id": "a2aa774d12fcc462",
   "outputs": [
    {
     "data": {
      "text/plain": [
       "  text\n",
       "0     \n",
       "1     \n",
       "2     \n",
       "3     \n",
       "4     "
      ],
      "text/html": [
       "<div>\n",
       "<style scoped>\n",
       "    .dataframe tbody tr th:only-of-type {\n",
       "        vertical-align: middle;\n",
       "    }\n",
       "\n",
       "    .dataframe tbody tr th {\n",
       "        vertical-align: top;\n",
       "    }\n",
       "\n",
       "    .dataframe thead th {\n",
       "        text-align: right;\n",
       "    }\n",
       "</style>\n",
       "<table border=\"1\" class=\"dataframe\">\n",
       "  <thead>\n",
       "    <tr style=\"text-align: right;\">\n",
       "      <th></th>\n",
       "      <th>text</th>\n",
       "    </tr>\n",
       "  </thead>\n",
       "  <tbody>\n",
       "    <tr>\n",
       "      <th>0</th>\n",
       "      <td></td>\n",
       "    </tr>\n",
       "    <tr>\n",
       "      <th>1</th>\n",
       "      <td></td>\n",
       "    </tr>\n",
       "    <tr>\n",
       "      <th>2</th>\n",
       "      <td></td>\n",
       "    </tr>\n",
       "    <tr>\n",
       "      <th>3</th>\n",
       "      <td></td>\n",
       "    </tr>\n",
       "    <tr>\n",
       "      <th>4</th>\n",
       "      <td></td>\n",
       "    </tr>\n",
       "  </tbody>\n",
       "</table>\n",
       "</div>"
      ]
     },
     "execution_count": 8,
     "metadata": {},
     "output_type": "execute_result"
    }
   ],
   "execution_count": 8
  },
  {
   "metadata": {
    "ExecuteTime": {
     "end_time": "2024-12-02T07:38:38.291096Z",
     "start_time": "2024-12-02T07:38:37.853892Z"
    }
   },
   "cell_type": "code",
   "source": [
    "# Step 2: Remove rows with null or empty text\n",
    "df = df[df['text'].notna() & (df['text'].str.strip() != '')]\n",
    "df.head()"
   ],
   "id": "6feca31c9a0a802b",
   "outputs": [
    {
     "data": {
      "text/plain": [
       "                                                 text\n",
       "8   [Hey!  This is a chat where you can talk about...\n",
       "26  Hello for everyone! My name is Davronbek Rusta...\n",
       "29                                  Welcome everyone!\n",
       "32                                     Hello! \\(^-^)/\n",
       "36                                            Bonjour"
      ],
      "text/html": [
       "<div>\n",
       "<style scoped>\n",
       "    .dataframe tbody tr th:only-of-type {\n",
       "        vertical-align: middle;\n",
       "    }\n",
       "\n",
       "    .dataframe tbody tr th {\n",
       "        vertical-align: top;\n",
       "    }\n",
       "\n",
       "    .dataframe thead th {\n",
       "        text-align: right;\n",
       "    }\n",
       "</style>\n",
       "<table border=\"1\" class=\"dataframe\">\n",
       "  <thead>\n",
       "    <tr style=\"text-align: right;\">\n",
       "      <th></th>\n",
       "      <th>text</th>\n",
       "    </tr>\n",
       "  </thead>\n",
       "  <tbody>\n",
       "    <tr>\n",
       "      <th>8</th>\n",
       "      <td>[Hey!  This is a chat where you can talk about...</td>\n",
       "    </tr>\n",
       "    <tr>\n",
       "      <th>26</th>\n",
       "      <td>Hello for everyone! My name is Davronbek Rusta...</td>\n",
       "    </tr>\n",
       "    <tr>\n",
       "      <th>29</th>\n",
       "      <td>Welcome everyone!</td>\n",
       "    </tr>\n",
       "    <tr>\n",
       "      <th>32</th>\n",
       "      <td>Hello! \\(^-^)/</td>\n",
       "    </tr>\n",
       "    <tr>\n",
       "      <th>36</th>\n",
       "      <td>Bonjour</td>\n",
       "    </tr>\n",
       "  </tbody>\n",
       "</table>\n",
       "</div>"
      ]
     },
     "execution_count": 9,
     "metadata": {},
     "output_type": "execute_result"
    }
   ],
   "execution_count": 9
  },
  {
   "metadata": {},
   "cell_type": "code",
   "outputs": [],
   "execution_count": null,
   "source": "",
   "id": "8e252eafbc754290"
  },
  {
   "metadata": {
    "ExecuteTime": {
     "end_time": "2024-12-02T07:38:45.116652Z",
     "start_time": "2024-12-02T07:38:44.305220Z"
    }
   },
   "cell_type": "code",
   "source": [
    "# Step 3: Remove emojis (non-ASCII characters)\n",
    "df['text'] = df['text'].str.replace(r'[^\\x00-\\x7F]+', '', regex=True)\n",
    "df.head()"
   ],
   "id": "ff9fb72618520260",
   "outputs": [
    {
     "data": {
      "text/plain": [
       "                                                 text\n",
       "8                                                 NaN\n",
       "26  Hello for everyone! My name is Davronbek Rusta...\n",
       "29                                  Welcome everyone!\n",
       "32                                     Hello! \\(^-^)/\n",
       "36                                            Bonjour"
      ],
      "text/html": [
       "<div>\n",
       "<style scoped>\n",
       "    .dataframe tbody tr th:only-of-type {\n",
       "        vertical-align: middle;\n",
       "    }\n",
       "\n",
       "    .dataframe tbody tr th {\n",
       "        vertical-align: top;\n",
       "    }\n",
       "\n",
       "    .dataframe thead th {\n",
       "        text-align: right;\n",
       "    }\n",
       "</style>\n",
       "<table border=\"1\" class=\"dataframe\">\n",
       "  <thead>\n",
       "    <tr style=\"text-align: right;\">\n",
       "      <th></th>\n",
       "      <th>text</th>\n",
       "    </tr>\n",
       "  </thead>\n",
       "  <tbody>\n",
       "    <tr>\n",
       "      <th>8</th>\n",
       "      <td>NaN</td>\n",
       "    </tr>\n",
       "    <tr>\n",
       "      <th>26</th>\n",
       "      <td>Hello for everyone! My name is Davronbek Rusta...</td>\n",
       "    </tr>\n",
       "    <tr>\n",
       "      <th>29</th>\n",
       "      <td>Welcome everyone!</td>\n",
       "    </tr>\n",
       "    <tr>\n",
       "      <th>32</th>\n",
       "      <td>Hello! \\(^-^)/</td>\n",
       "    </tr>\n",
       "    <tr>\n",
       "      <th>36</th>\n",
       "      <td>Bonjour</td>\n",
       "    </tr>\n",
       "  </tbody>\n",
       "</table>\n",
       "</div>"
      ]
     },
     "execution_count": 10,
     "metadata": {},
     "output_type": "execute_result"
    }
   ],
   "execution_count": 10
  },
  {
   "metadata": {
    "ExecuteTime": {
     "end_time": "2024-12-02T07:38:50.574137Z",
     "start_time": "2024-12-02T07:38:49.757981Z"
    }
   },
   "cell_type": "code",
   "source": [
    "# Step 4: Remove special characters, numbers, and punctuation (keep only alphabets and spaces)\n",
    "df['text'] = df['text'].str.replace(r\"[^a-zA-Z\\s]\", '', regex=True)\n",
    "df.tail()"
   ],
   "id": "1d512856382e3558",
   "outputs": [
    {
     "data": {
      "text/plain": [
       "                                                     text\n",
       "474259                                                NaN\n",
       "474260                               Thanks for your help\n",
       "474261  Can i edit message with media and delete media...\n",
       "474262                                  Why you ignore me\n",
       "474263  Because your message doesnt make sense What is..."
      ],
      "text/html": [
       "<div>\n",
       "<style scoped>\n",
       "    .dataframe tbody tr th:only-of-type {\n",
       "        vertical-align: middle;\n",
       "    }\n",
       "\n",
       "    .dataframe tbody tr th {\n",
       "        vertical-align: top;\n",
       "    }\n",
       "\n",
       "    .dataframe thead th {\n",
       "        text-align: right;\n",
       "    }\n",
       "</style>\n",
       "<table border=\"1\" class=\"dataframe\">\n",
       "  <thead>\n",
       "    <tr style=\"text-align: right;\">\n",
       "      <th></th>\n",
       "      <th>text</th>\n",
       "    </tr>\n",
       "  </thead>\n",
       "  <tbody>\n",
       "    <tr>\n",
       "      <th>474259</th>\n",
       "      <td>NaN</td>\n",
       "    </tr>\n",
       "    <tr>\n",
       "      <th>474260</th>\n",
       "      <td>Thanks for your help</td>\n",
       "    </tr>\n",
       "    <tr>\n",
       "      <th>474261</th>\n",
       "      <td>Can i edit message with media and delete media...</td>\n",
       "    </tr>\n",
       "    <tr>\n",
       "      <th>474262</th>\n",
       "      <td>Why you ignore me</td>\n",
       "    </tr>\n",
       "    <tr>\n",
       "      <th>474263</th>\n",
       "      <td>Because your message doesnt make sense What is...</td>\n",
       "    </tr>\n",
       "  </tbody>\n",
       "</table>\n",
       "</div>"
      ]
     },
     "execution_count": 11,
     "metadata": {},
     "output_type": "execute_result"
    }
   ],
   "execution_count": 11
  },
  {
   "metadata": {
    "ExecuteTime": {
     "end_time": "2024-12-02T06:45:14.121327Z",
     "start_time": "2024-12-02T06:45:13.819291Z"
    }
   },
   "cell_type": "code",
   "source": [
    "# Step 5: Convert text to lowercase and strip extra spaces, and NaN values\n",
    "df['text'] = df['text'].str.lower().str.strip()\n",
    "df['text'] = df['text'].fillna('')\n",
    "df.tail()"
   ],
   "id": "73308845ef8b114d",
   "outputs": [
    {
     "data": {
      "text/plain": [
       "                                                     text\n",
       "474259                                                   \n",
       "474260                               thanks for your help\n",
       "474261  can i edit message with media and delete media...\n",
       "474262                                  why you ignore me\n",
       "474263  because your message doesnt make sense what is..."
      ],
      "text/html": [
       "<div>\n",
       "<style scoped>\n",
       "    .dataframe tbody tr th:only-of-type {\n",
       "        vertical-align: middle;\n",
       "    }\n",
       "\n",
       "    .dataframe tbody tr th {\n",
       "        vertical-align: top;\n",
       "    }\n",
       "\n",
       "    .dataframe thead th {\n",
       "        text-align: right;\n",
       "    }\n",
       "</style>\n",
       "<table border=\"1\" class=\"dataframe\">\n",
       "  <thead>\n",
       "    <tr style=\"text-align: right;\">\n",
       "      <th></th>\n",
       "      <th>text</th>\n",
       "    </tr>\n",
       "  </thead>\n",
       "  <tbody>\n",
       "    <tr>\n",
       "      <th>474259</th>\n",
       "      <td></td>\n",
       "    </tr>\n",
       "    <tr>\n",
       "      <th>474260</th>\n",
       "      <td>thanks for your help</td>\n",
       "    </tr>\n",
       "    <tr>\n",
       "      <th>474261</th>\n",
       "      <td>can i edit message with media and delete media...</td>\n",
       "    </tr>\n",
       "    <tr>\n",
       "      <th>474262</th>\n",
       "      <td>why you ignore me</td>\n",
       "    </tr>\n",
       "    <tr>\n",
       "      <th>474263</th>\n",
       "      <td>because your message doesnt make sense what is...</td>\n",
       "    </tr>\n",
       "  </tbody>\n",
       "</table>\n",
       "</div>"
      ]
     },
     "execution_count": 9,
     "metadata": {},
     "output_type": "execute_result"
    }
   ],
   "execution_count": 9
  },
  {
   "metadata": {
    "ExecuteTime": {
     "end_time": "2024-12-02T07:38:59.034490Z",
     "start_time": "2024-12-02T07:38:58.705545Z"
    }
   },
   "cell_type": "code",
   "source": [
    "# Step 6: Remove short messages (less than 3 characters) and duplicates\n",
    "df = df[df['text'].str.len() > 3]\n",
    "df = df.drop_duplicates(subset=['text'], keep='first')\n",
    "df.head()"
   ],
   "id": "cbdf893024b2fec7",
   "outputs": [
    {
     "data": {
      "text/plain": [
       "                                                 text\n",
       "26  Hello for everyone My name is Davronbek Rustam...\n",
       "29                                   Welcome everyone\n",
       "32                                             Hello \n",
       "36                                            Bonjour\n",
       "44                                       Bonjour love"
      ],
      "text/html": [
       "<div>\n",
       "<style scoped>\n",
       "    .dataframe tbody tr th:only-of-type {\n",
       "        vertical-align: middle;\n",
       "    }\n",
       "\n",
       "    .dataframe tbody tr th {\n",
       "        vertical-align: top;\n",
       "    }\n",
       "\n",
       "    .dataframe thead th {\n",
       "        text-align: right;\n",
       "    }\n",
       "</style>\n",
       "<table border=\"1\" class=\"dataframe\">\n",
       "  <thead>\n",
       "    <tr style=\"text-align: right;\">\n",
       "      <th></th>\n",
       "      <th>text</th>\n",
       "    </tr>\n",
       "  </thead>\n",
       "  <tbody>\n",
       "    <tr>\n",
       "      <th>26</th>\n",
       "      <td>Hello for everyone My name is Davronbek Rustam...</td>\n",
       "    </tr>\n",
       "    <tr>\n",
       "      <th>29</th>\n",
       "      <td>Welcome everyone</td>\n",
       "    </tr>\n",
       "    <tr>\n",
       "      <th>32</th>\n",
       "      <td>Hello</td>\n",
       "    </tr>\n",
       "    <tr>\n",
       "      <th>36</th>\n",
       "      <td>Bonjour</td>\n",
       "    </tr>\n",
       "    <tr>\n",
       "      <th>44</th>\n",
       "      <td>Bonjour love</td>\n",
       "    </tr>\n",
       "  </tbody>\n",
       "</table>\n",
       "</div>"
      ]
     },
     "execution_count": 12,
     "metadata": {},
     "output_type": "execute_result"
    }
   ],
   "execution_count": 12
  },
  {
   "metadata": {
    "ExecuteTime": {
     "end_time": "2024-12-02T06:46:10.213872Z",
     "start_time": "2024-12-02T06:46:06.010753Z"
    }
   },
   "cell_type": "code",
   "source": [
    "from sklearn.feature_extraction.text import TfidfVectorizer\n",
    "\n",
    "# Step 1: TF-IDF Vectorization\n",
    "tfidf = TfidfVectorizer(max_features=10000)  # You can adjust the number of features\n",
    "\n",
    "# Fit the model and transform the text data\n",
    "X_tfidf = tfidf.fit_transform(df['text'])\n",
    "\n",
    "# Check the shape of the transformed data\n",
    "print(X_tfidf.shape)\n",
    "\n",
    "#save\n",
    "import joblib\n",
    "joblib.dump(tfidf, 'models/tfidf_vectorizer.pkl')"
   ],
   "id": "1948d16003b20bbb",
   "outputs": [
    {
     "name": "stdout",
     "output_type": "stream",
     "text": [
      "(306625, 10000)\n"
     ]
    },
    {
     "data": {
      "text/plain": [
       "['models/tfidf_vectorizer.pkl']"
      ]
     },
     "execution_count": 12,
     "metadata": {},
     "output_type": "execute_result"
    }
   ],
   "execution_count": 12
  },
  {
   "metadata": {
    "ExecuteTime": {
     "end_time": "2024-12-02T06:46:34.351983Z",
     "start_time": "2024-12-02T06:46:13.554808Z"
    }
   },
   "cell_type": "code",
   "source": [
    "# use VADER  for adding sentiment common to the data\n",
    "from vaderSentiment.vaderSentiment import SentimentIntensityAnalyzer\n",
    "\n",
    "# Initialize the SentimentIntensityAnalyzer\n",
    "analyzer = SentimentIntensityAnalyzer()\n",
    "\n",
    "# Assuming df is your existing DataFrame with 'text' column\n",
    "df['sentiment'] = df['text'].apply(lambda x: 'positive' if analyzer.polarity_scores(x)['compound'] > 0 \n",
    "                                   else 'negative' if analyzer.polarity_scores(x)['compound'] < 0 \n",
    "                                   else 'neutral')\n",
    "\n",
    "# Display the first 200 rows of the DataFrame to inspect the sentiment column\n",
    "print(df.head(2000))\n",
    "\n",
    "\n"
   ],
   "id": "f31828e7faec477d",
   "outputs": [
    {
     "name": "stdout",
     "output_type": "stream",
     "text": [
      "                                                   text sentiment\n",
      "26    hello for everyone my name is davronbek rustam...  positive\n",
      "29                                     welcome everyone  positive\n",
      "32                                                hello   neutral\n",
      "36                                              bonjour   neutral\n",
      "44                                         bonjour love  positive\n",
      "...                                                 ...       ...\n",
      "3084                          can you make a bot for me   neutral\n",
      "3086  this place is more for those actively developi...  positive\n",
      "3092  i want to ask \\ni have made menu and sub menu ...  negative\n",
      "3094                                     this is my bot   neutral\n",
      "3095                 i want my user submit order by bot  positive\n",
      "\n",
      "[2000 rows x 2 columns]\n"
     ]
    }
   ],
   "execution_count": 13
  },
  {
   "metadata": {
    "ExecuteTime": {
     "end_time": "2024-12-02T06:48:28.334894Z",
     "start_time": "2024-12-02T06:48:28.259107Z"
    }
   },
   "cell_type": "code",
   "source": [
    "from sklearn.preprocessing import LabelEncoder\n",
    "\n",
    "# Initialize label encoder\n",
    "label_encoder = LabelEncoder()\n",
    "\n",
    "# Encode the sentiment labels\n",
    "y = label_encoder.fit_transform(df['sentiment'])\n",
    "\n",
    "#save\n",
    "joblib.dump(label_encoder, 'models/label_encoder.pkl')\n",
    "\n",
    "# Check the label encoding\n",
    "print(label_encoder.classes_)\n",
    "print(y[:100])  # Display the first 10 encoded labels\n",
    "df.head(1000)\n"
   ],
   "id": "3cbd7af66b3c4985",
   "outputs": [
    {
     "name": "stdout",
     "output_type": "stream",
     "text": [
      "['negative' 'neutral' 'positive']\n",
      "[2 2 1 1 2 2 0 1 0 0 1 2 2 1 1 1 0 1 2 1 1 1 0 1 1 1 2 1 0 2 2 1 2 1 1 2 2\n",
      " 1 1 1 1 2 2 1 1 1 0 1 0 1 0 1 1 0 2 1 1 2 0 1 1 2 2 1 1 2 1 1 1 2 1 1 1 2\n",
      " 2 1 1 1 1 1 1 2 2 2 1 2 2 1 2 0 0 2 2 1 1 1 1 1 2 2]\n"
     ]
    },
    {
     "data": {
      "text/plain": [
       "                                                   text sentiment\n",
       "26    hello for everyone my name is davronbek rustam...  positive\n",
       "29                                     welcome everyone  positive\n",
       "32                                                hello   neutral\n",
       "36                                              bonjour   neutral\n",
       "44                                         bonjour love  positive\n",
       "...                                                 ...       ...\n",
       "1667                                 eh choose language   neutral\n",
       "1669  found this really cool maybe help later with g...  positive\n",
       "1670  do you guys have good open source bots written...  positive\n",
       "1671                              cheers youre the best  positive\n",
       "1672                                              maybe   neutral\n",
       "\n",
       "[1000 rows x 2 columns]"
      ],
      "text/html": [
       "<div>\n",
       "<style scoped>\n",
       "    .dataframe tbody tr th:only-of-type {\n",
       "        vertical-align: middle;\n",
       "    }\n",
       "\n",
       "    .dataframe tbody tr th {\n",
       "        vertical-align: top;\n",
       "    }\n",
       "\n",
       "    .dataframe thead th {\n",
       "        text-align: right;\n",
       "    }\n",
       "</style>\n",
       "<table border=\"1\" class=\"dataframe\">\n",
       "  <thead>\n",
       "    <tr style=\"text-align: right;\">\n",
       "      <th></th>\n",
       "      <th>text</th>\n",
       "      <th>sentiment</th>\n",
       "    </tr>\n",
       "  </thead>\n",
       "  <tbody>\n",
       "    <tr>\n",
       "      <th>26</th>\n",
       "      <td>hello for everyone my name is davronbek rustam...</td>\n",
       "      <td>positive</td>\n",
       "    </tr>\n",
       "    <tr>\n",
       "      <th>29</th>\n",
       "      <td>welcome everyone</td>\n",
       "      <td>positive</td>\n",
       "    </tr>\n",
       "    <tr>\n",
       "      <th>32</th>\n",
       "      <td>hello</td>\n",
       "      <td>neutral</td>\n",
       "    </tr>\n",
       "    <tr>\n",
       "      <th>36</th>\n",
       "      <td>bonjour</td>\n",
       "      <td>neutral</td>\n",
       "    </tr>\n",
       "    <tr>\n",
       "      <th>44</th>\n",
       "      <td>bonjour love</td>\n",
       "      <td>positive</td>\n",
       "    </tr>\n",
       "    <tr>\n",
       "      <th>...</th>\n",
       "      <td>...</td>\n",
       "      <td>...</td>\n",
       "    </tr>\n",
       "    <tr>\n",
       "      <th>1667</th>\n",
       "      <td>eh choose language</td>\n",
       "      <td>neutral</td>\n",
       "    </tr>\n",
       "    <tr>\n",
       "      <th>1669</th>\n",
       "      <td>found this really cool maybe help later with g...</td>\n",
       "      <td>positive</td>\n",
       "    </tr>\n",
       "    <tr>\n",
       "      <th>1670</th>\n",
       "      <td>do you guys have good open source bots written...</td>\n",
       "      <td>positive</td>\n",
       "    </tr>\n",
       "    <tr>\n",
       "      <th>1671</th>\n",
       "      <td>cheers youre the best</td>\n",
       "      <td>positive</td>\n",
       "    </tr>\n",
       "    <tr>\n",
       "      <th>1672</th>\n",
       "      <td>maybe</td>\n",
       "      <td>neutral</td>\n",
       "    </tr>\n",
       "  </tbody>\n",
       "</table>\n",
       "<p>1000 rows × 2 columns</p>\n",
       "</div>"
      ]
     },
     "execution_count": 20,
     "metadata": {},
     "output_type": "execute_result"
    }
   ],
   "execution_count": 20
  },
  {
   "metadata": {
    "ExecuteTime": {
     "end_time": "2024-12-02T06:48:38.167945Z",
     "start_time": "2024-12-02T06:48:38.055634Z"
    }
   },
   "cell_type": "code",
   "source": [
    "from sklearn.model_selection import train_test_split\n",
    "\n",
    "# Split the data into training and testing sets\n",
    "X_train, X_test, y_train, y_test = train_test_split(X_tfidf, y, test_size=0.2, random_state=42)\n",
    "\n",
    "# Check the shape of the train and test data\n",
    "print(X_train.shape, X_test.shape, y_train.shape, y_test.shape)\n",
    "\n"
   ],
   "id": "d24febb7a0247f28",
   "outputs": [
    {
     "name": "stdout",
     "output_type": "stream",
     "text": [
      "(245300, 10000) (61325, 10000) (245300,) (61325,)\n"
     ]
    }
   ],
   "execution_count": 21
  },
  {
   "metadata": {
    "ExecuteTime": {
     "end_time": "2024-12-02T06:47:25.642669Z",
     "start_time": "2024-12-02T06:47:17.694393Z"
    }
   },
   "cell_type": "code",
   "source": [
    "from sklearn.linear_model import LogisticRegression\n",
    "from sklearn.metrics import classification_report\n",
    "\n",
    "# Initialize and train the Logistic Regression model\n",
    "model = LogisticRegression(max_iter=1000)\n",
    "model.fit(X_train, y_train)\n",
    "\n",
    "# Predict on the test set\n",
    "y_pred = model.predict(X_test)\n",
    "\n",
    "# Evaluate the model's performance\n",
    "print(classification_report(y_test, y_pred))\n",
    "\n"
   ],
   "id": "3b0fa4bbe2b40839",
   "outputs": [
    {
     "name": "stdout",
     "output_type": "stream",
     "text": [
      "              precision    recall  f1-score   support\n",
      "\n",
      "           0       0.86      0.74      0.80     11029\n",
      "           1       0.95      0.99      0.97     28652\n",
      "           2       0.90      0.91      0.91     21644\n",
      "\n",
      "    accuracy                           0.92     61325\n",
      "   macro avg       0.91      0.88      0.89     61325\n",
      "weighted avg       0.92      0.92      0.92     61325\n",
      "\n"
     ]
    }
   ],
   "execution_count": 18
  },
  {
   "metadata": {
    "ExecuteTime": {
     "end_time": "2024-12-01T15:18:06.933670Z",
     "start_time": "2024-12-01T15:13:52.040408Z"
    }
   },
   "cell_type": "code",
   "source": [
    "from sklearn.model_selection import GridSearchCV\n",
    "\n",
    "# Hyperparameter grid for Logistic Regression\n",
    "param_grid = {'C': [0.1, 1, 10], 'solver': ['liblinear', 'lbfgs']}\n",
    "\n",
    "# GridSearchCV to find the best hyperparameters\n",
    "grid_search = GridSearchCV(LogisticRegression(max_iter=1000), param_grid, cv=5)\n",
    "grid_search.fit(X_train, y_train)\n",
    "\n",
    "# Print the best parameters and score\n",
    "print(\"Best parameters:\", grid_search.best_params_)\n",
    "print(\"Best score:\", grid_search.best_score_)\n",
    "\n",
    "# Use the best model found by GridSearchCV\n",
    "best_model = grid_search.best_estimator_\n",
    "y_pred_best = best_model.predict(X_test)\n",
    "print(classification_report(y_test, y_pred_best))\n"
   ],
   "id": "2f751d7404afc44c",
   "outputs": [
    {
     "name": "stdout",
     "output_type": "stream",
     "text": [
      "Best parameters: {'C': 10, 'solver': 'liblinear'}\n",
      "Best score: 0.9496614695829526\n",
      "              precision    recall  f1-score   support\n",
      "\n",
      "           0       0.87      0.79      0.83     12133\n",
      "           1       0.99      1.00      0.99     49687\n",
      "           2       0.92      0.94      0.93     27242\n",
      "\n",
      "    accuracy                           0.95     89062\n",
      "   macro avg       0.93      0.91      0.92     89062\n",
      "weighted avg       0.95      0.95      0.95     89062\n",
      "\n"
     ]
    }
   ],
   "execution_count": 16
  },
  {
   "metadata": {
    "ExecuteTime": {
     "end_time": "2024-12-02T06:48:47.973156Z",
     "start_time": "2024-12-02T06:48:47.936507Z"
    }
   },
   "cell_type": "code",
   "source": [
    "import os\n",
    "import joblib\n",
    "\n",
    "\n",
    "os.makedirs('models', exist_ok=True)\n",
    "\n",
    "\n",
    "joblib.dump(model, 'models/sentiment_model.pkl')\n",
    "\n",
    "print(\"Model saved in 'models/sentiment_model.pkl'\")\n",
    "\n"
   ],
   "id": "2246fd097f4fb5d",
   "outputs": [
    {
     "name": "stdout",
     "output_type": "stream",
     "text": [
      "Model saved in 'models/sentiment_model.pkl'\n"
     ]
    }
   ],
   "execution_count": 22
  },
  {
   "metadata": {
    "ExecuteTime": {
     "end_time": "2024-12-02T06:48:51.521132Z",
     "start_time": "2024-12-02T06:48:51.515154Z"
    }
   },
   "cell_type": "code",
   "source": [
    "import joblib\n",
    "\n",
    "model = joblib.load('models/sentiment_model.pkl')\n",
    "print(model)\n",
    "\n"
   ],
   "id": "c86daef0aa4ca9f8",
   "outputs": [
    {
     "name": "stdout",
     "output_type": "stream",
     "text": [
      "LogisticRegression(max_iter=1000)\n"
     ]
    }
   ],
   "execution_count": 23
  },
  {
   "metadata": {
    "ExecuteTime": {
     "end_time": "2024-12-02T06:48:54.389548Z",
     "start_time": "2024-12-02T06:48:54.382983Z"
    }
   },
   "cell_type": "code",
   "source": [
    "# Example new data\n",
    "new_chat_messages = [\n",
    "    \"I love this feature!\",\n",
    "    \"This is the worst experience ever.\",\n",
    "    \"Nothing will happen.\",\n",
    "    \"i have no mentor\",\n",
    "    \"no sound\"\n",
    "]\n",
    "\n",
    "# Preprocess the new data (same as the training data)\n",
    "new_data_tfidf = tfidf.transform(new_chat_messages)\n",
    "\n",
    "# Predict sentiment for the new messages\n",
    "predictions = model.predict(new_data_tfidf)\n",
    "\n",
    "# Decode the predictions to original labels\n",
    "sentiment_labels = label_encoder.inverse_transform(predictions)\n",
    "\n",
    "# Print results\n",
    "for message, sentiment in zip(new_chat_messages, sentiment_labels):\n",
    "    print(f\"Message: {message}\\nPredicted Sentiment: {sentiment}\\n\")\n"
   ],
   "id": "d0e9629b87a1a56b",
   "outputs": [
    {
     "name": "stdout",
     "output_type": "stream",
     "text": [
      "Message: I love this feature!\n",
      "Predicted Sentiment: positive\n",
      "\n",
      "Message: This is the worst experience ever.\n",
      "Predicted Sentiment: negative\n",
      "\n",
      "Message: Nothing will happen.\n",
      "Predicted Sentiment: neutral\n",
      "\n",
      "Message: i have no mentor\n",
      "Predicted Sentiment: negative\n",
      "\n",
      "Message: no sound\n",
      "Predicted Sentiment: negative\n",
      "\n"
     ]
    }
   ],
   "execution_count": 24
  }
 ],
 "metadata": {
  "kernelspec": {
   "display_name": "Python 3",
   "language": "python",
   "name": "python3"
  },
  "language_info": {
   "codemirror_mode": {
    "name": "ipython",
    "version": 2
   },
   "file_extension": ".py",
   "mimetype": "text/x-python",
   "name": "python",
   "nbconvert_exporter": "python",
   "pygments_lexer": "ipython2",
   "version": "2.7.6"
  }
 },
 "nbformat": 4,
 "nbformat_minor": 5
}
